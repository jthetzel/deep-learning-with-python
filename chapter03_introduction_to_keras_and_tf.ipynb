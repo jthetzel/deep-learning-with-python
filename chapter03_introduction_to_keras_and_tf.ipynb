{
  "nbformat": 4,
  "nbformat_minor": 0,
  "metadata": {
    "colab": {
      "name": "chapter03_introduction-to-keras-and-tf.ipynb",
      "provenance": [],
      "authorship_tag": "ABX9TyN/CmO+4Rrwt2pghpGGW4K2",
      "include_colab_link": true
    },
    "kernelspec": {
      "name": "python3",
      "display_name": "Python 3"
    },
    "language_info": {
      "name": "python"
    }
  },
  "cells": [
    {
      "cell_type": "markdown",
      "metadata": {
        "id": "view-in-github",
        "colab_type": "text"
      },
      "source": [
        "<a href=\"https://colab.research.google.com/github/jthetzel/deep-learning-with-python/blob/master/chapter03_introduction_to_keras_and_tf.ipynb\" target=\"_parent\"><img src=\"https://colab.research.google.com/assets/colab-badge.svg\" alt=\"Open In Colab\"/></a>"
      ]
    },
    {
      "cell_type": "markdown",
      "source": [
        "## TensorFlow"
      ],
      "metadata": {
        "id": "NxkHjL42yzIQ"
      }
    },
    {
      "cell_type": "code",
      "source": [
        "import tensorflow as tf\n",
        "\n",
        "x = tf.ones(shape=(2,1))\n",
        "x"
      ],
      "metadata": {
        "colab": {
          "base_uri": "https://localhost:8080/"
        },
        "id": "bHU9pvlDza4n",
        "outputId": "3ab6b22f-897a-4f24-ba2a-8afd31d9aaeb"
      },
      "execution_count": 1,
      "outputs": [
        {
          "output_type": "execute_result",
          "data": {
            "text/plain": [
              "<tf.Tensor: shape=(2, 1), dtype=float32, numpy=\n",
              "array([[1.],\n",
              "       [1.]], dtype=float32)>"
            ]
          },
          "metadata": {},
          "execution_count": 1
        }
      ]
    },
    {
      "cell_type": "code",
      "source": [
        "x = tf.zeros(shape=(2,1))\n",
        "x"
      ],
      "metadata": {
        "colab": {
          "base_uri": "https://localhost:8080/"
        },
        "id": "wbm4SAblzfhU",
        "outputId": "285bea1a-0752-4641-8abe-c6e0d0b0b2cb"
      },
      "execution_count": 2,
      "outputs": [
        {
          "output_type": "execute_result",
          "data": {
            "text/plain": [
              "<tf.Tensor: shape=(2, 1), dtype=float32, numpy=\n",
              "array([[0.],\n",
              "       [0.]], dtype=float32)>"
            ]
          },
          "metadata": {},
          "execution_count": 2
        }
      ]
    },
    {
      "cell_type": "markdown",
      "source": [
        "## Random tensors"
      ],
      "metadata": {
        "id": "E_R6Z3HE0XNt"
      }
    },
    {
      "cell_type": "code",
      "source": [
        "x = tf.random.normal(shape=(3, 1), mean=0., stddev=1.)\n",
        "x"
      ],
      "metadata": {
        "colab": {
          "base_uri": "https://localhost:8080/"
        },
        "id": "N1jjmcs20aqR",
        "outputId": "42eca855-db2d-4fca-83a4-061c18c4e24a"
      },
      "execution_count": 5,
      "outputs": [
        {
          "output_type": "execute_result",
          "data": {
            "text/plain": [
              "<tf.Tensor: shape=(3, 1), dtype=float32, numpy=\n",
              "array([[-0.4846445 ],\n",
              "       [-0.9491143 ],\n",
              "       [-0.18164138]], dtype=float32)>"
            ]
          },
          "metadata": {},
          "execution_count": 5
        }
      ]
    },
    {
      "cell_type": "code",
      "source": [
        "x = tf.random.uniform(shape=(3, 1), minval=0., maxval=1.)\n",
        "x"
      ],
      "metadata": {
        "colab": {
          "base_uri": "https://localhost:8080/"
        },
        "id": "6VyOxo1j0ghG",
        "outputId": "56838dc3-c68d-421c-b541-a8752c3da17a"
      },
      "execution_count": 7,
      "outputs": [
        {
          "output_type": "execute_result",
          "data": {
            "text/plain": [
              "<tf.Tensor: shape=(3, 1), dtype=float32, numpy=\n",
              "array([[0.67817163],\n",
              "       [0.50923216],\n",
              "       [0.6705233 ]], dtype=float32)>"
            ]
          },
          "metadata": {},
          "execution_count": 7
        }
      ]
    },
    {
      "cell_type": "markdown",
      "source": [
        "## Assignment"
      ],
      "metadata": {
        "id": "kuxMT6wI0y7f"
      }
    },
    {
      "cell_type": "code",
      "source": [
        "import numpy as np\n",
        "\n",
        "x = np.ones((2, 2))\n",
        "x[0, 0] = 0\n",
        "x"
      ],
      "metadata": {
        "colab": {
          "base_uri": "https://localhost:8080/"
        },
        "id": "IdmNI6w706iS",
        "outputId": "0bd42459-70c6-4371-f1a7-80a1a7fe4840"
      },
      "execution_count": 9,
      "outputs": [
        {
          "output_type": "execute_result",
          "data": {
            "text/plain": [
              "array([[0., 1.],\n",
              "       [1., 1.]])"
            ]
          },
          "metadata": {},
          "execution_count": 9
        }
      ]
    },
    {
      "cell_type": "code",
      "source": [
        "v = tf.Variable(initial_value=tf.random.normal((3, 1)))\n",
        "v"
      ],
      "metadata": {
        "colab": {
          "base_uri": "https://localhost:8080/"
        },
        "id": "0bRRrPtG1CFl",
        "outputId": "957dcb91-cb31-45bc-f27e-8809087d3979"
      },
      "execution_count": 10,
      "outputs": [
        {
          "output_type": "execute_result",
          "data": {
            "text/plain": [
              "<tf.Variable 'Variable:0' shape=(3, 1) dtype=float32, numpy=\n",
              "array([[-0.14139828],\n",
              "       [-0.26362684],\n",
              "       [ 0.55910474]], dtype=float32)>"
            ]
          },
          "metadata": {},
          "execution_count": 10
        }
      ]
    },
    {
      "cell_type": "code",
      "source": [
        "v.assign(tf.ones((3, 1)))\n",
        "v"
      ],
      "metadata": {
        "colab": {
          "base_uri": "https://localhost:8080/"
        },
        "id": "F6VLEJvX1LnJ",
        "outputId": "a2192b30-0756-456b-f15c-57e6e6a2e679"
      },
      "execution_count": 11,
      "outputs": [
        {
          "output_type": "execute_result",
          "data": {
            "text/plain": [
              "<tf.Variable 'Variable:0' shape=(3, 1) dtype=float32, numpy=\n",
              "array([[1.],\n",
              "       [1.],\n",
              "       [1.]], dtype=float32)>"
            ]
          },
          "metadata": {},
          "execution_count": 11
        }
      ]
    },
    {
      "cell_type": "code",
      "source": [
        "v[0, 0].assign(3.)\n",
        "v"
      ],
      "metadata": {
        "colab": {
          "base_uri": "https://localhost:8080/"
        },
        "id": "DV6xGpAW1TmV",
        "outputId": "2f230453-48b2-4d0e-9a63-651e07343805"
      },
      "execution_count": 12,
      "outputs": [
        {
          "output_type": "execute_result",
          "data": {
            "text/plain": [
              "<tf.Variable 'Variable:0' shape=(3, 1) dtype=float32, numpy=\n",
              "array([[3.],\n",
              "       [1.],\n",
              "       [1.]], dtype=float32)>"
            ]
          },
          "metadata": {},
          "execution_count": 12
        }
      ]
    },
    {
      "cell_type": "code",
      "source": [
        "v.assign_add(tf.ones((3, 1)))\n",
        "v"
      ],
      "metadata": {
        "colab": {
          "base_uri": "https://localhost:8080/"
        },
        "id": "OeMWf0cn1WuH",
        "outputId": "85bcd52f-4e40-42c8-d28c-534af885c7c8"
      },
      "execution_count": 13,
      "outputs": [
        {
          "output_type": "execute_result",
          "data": {
            "text/plain": [
              "<tf.Variable 'Variable:0' shape=(3, 1) dtype=float32, numpy=\n",
              "array([[4.],\n",
              "       [2.],\n",
              "       [2.]], dtype=float32)>"
            ]
          },
          "metadata": {},
          "execution_count": 13
        }
      ]
    },
    {
      "cell_type": "code",
      "source": [
        "a = tf.ones((2, 2))\n",
        "b = tf.square(a)\n",
        "c = tf.sqrt(a)\n",
        "d = b + c\n",
        "e = tf.matmul(a, b)\n",
        "e *= d\n",
        "\n",
        "e"
      ],
      "metadata": {
        "colab": {
          "base_uri": "https://localhost:8080/"
        },
        "id": "ezd7QJfn1a_I",
        "outputId": "948475a0-4b75-4652-be1b-0d7399b0a3db"
      },
      "execution_count": 14,
      "outputs": [
        {
          "output_type": "execute_result",
          "data": {
            "text/plain": [
              "<tf.Tensor: shape=(2, 2), dtype=float32, numpy=\n",
              "array([[4., 4.],\n",
              "       [4., 4.]], dtype=float32)>"
            ]
          },
          "metadata": {},
          "execution_count": 14
        }
      ]
    },
    {
      "cell_type": "markdown",
      "source": [
        "## Gradient tape"
      ],
      "metadata": {
        "id": "cqx5pwHN1pWM"
      }
    },
    {
      "cell_type": "code",
      "source": [
        "input_var = tf.Variable(initial_value=3.)\n",
        "\n",
        "with tf.GradientTape() as tape:\n",
        "  result = tf.square(input_var)\n",
        "\n",
        "gradient = tape.gradient(result, input_var)\n",
        "gradient"
      ],
      "metadata": {
        "colab": {
          "base_uri": "https://localhost:8080/"
        },
        "id": "eFMHYE0C1tKW",
        "outputId": "17f66630-4841-4801-833f-c4fc61ee5370"
      },
      "execution_count": 16,
      "outputs": [
        {
          "output_type": "execute_result",
          "data": {
            "text/plain": [
              "<tf.Tensor: shape=(), dtype=float32, numpy=6.0>"
            ]
          },
          "metadata": {},
          "execution_count": 16
        }
      ]
    },
    {
      "cell_type": "code",
      "source": [
        "input_const = tf.constant(3.)\n",
        "\n",
        "with tf.GradientTape() as tape:\n",
        "  tape.watch(input_const)\n",
        "  result = tf.square(input_const)\n",
        "\n",
        "gradient = tape.gradient(result, input_const)\n",
        "gradient"
      ],
      "metadata": {
        "colab": {
          "base_uri": "https://localhost:8080/"
        },
        "id": "jbmUdR0L14hq",
        "outputId": "4edfe48d-d2e9-4d1c-d5f2-fda9abc8e969"
      },
      "execution_count": 17,
      "outputs": [
        {
          "output_type": "execute_result",
          "data": {
            "text/plain": [
              "<tf.Tensor: shape=(), dtype=float32, numpy=6.0>"
            ]
          },
          "metadata": {},
          "execution_count": 17
        }
      ]
    },
    {
      "cell_type": "code",
      "source": [
        "time = tf.Variable(0.)\n",
        "\n",
        "with tf.GradientTape() as outer_tape:\n",
        "  with tf.GradientTape() as inner_tape:\n",
        "    position = 4.9*time**2\n",
        "  speed = inner_tape.gradient(position, time)\n",
        "acceleration = outer_tape.gradient(speed, time)\n",
        "\n",
        "print(speed)\n",
        "print(acceleration)"
      ],
      "metadata": {
        "colab": {
          "base_uri": "https://localhost:8080/"
        },
        "id": "7YYkvOYI2V_v",
        "outputId": "fea246f0-22e6-4dd1-a0ec-24f2a6d809c1"
      },
      "execution_count": 19,
      "outputs": [
        {
          "output_type": "stream",
          "name": "stdout",
          "text": [
            "tf.Tensor(0.0, shape=(), dtype=float32)\n",
            "tf.Tensor(9.8, shape=(), dtype=float32)\n"
          ]
        }
      ]
    },
    {
      "cell_type": "markdown",
      "source": [
        "## Linear classifier"
      ],
      "metadata": {
        "id": "ueTCbPj-T7y3"
      }
    },
    {
      "cell_type": "code",
      "source": [
        "num_samples_per_class = 1_000\n",
        "negative_samples = np.random.multivariate_normal(\n",
        "    mean=[0, 3],\n",
        "    cov=[[1, 0.5], [0.5, 1]],\n",
        "    size=num_samples_per_class,\n",
        ")\n",
        "positive_samples = np.random.multivariate_normal(\n",
        "    mean=[3, 0],\n",
        "    cov=[[1, 0.5], [0.5, 1]],\n",
        "    size=num_samples_per_class\n",
        ")"
      ],
      "metadata": {
        "id": "dAbNcyuTTPeG"
      },
      "execution_count": 20,
      "outputs": []
    },
    {
      "cell_type": "code",
      "source": [
        "negative_samples"
      ],
      "metadata": {
        "colab": {
          "base_uri": "https://localhost:8080/"
        },
        "id": "KoiIkTbQT3e3",
        "outputId": "223cbb99-30ff-4047-8103-50eb1234c4d7"
      },
      "execution_count": 21,
      "outputs": [
        {
          "output_type": "execute_result",
          "data": {
            "text/plain": [
              "array([[-1.06177427,  2.64949594],\n",
              "       [-1.68390747,  3.28218996],\n",
              "       [ 0.19288641,  1.48984348],\n",
              "       ...,\n",
              "       [-0.51861048,  2.99395152],\n",
              "       [-0.54370062,  2.96853296],\n",
              "       [-2.25063513,  2.16502722]])"
            ]
          },
          "metadata": {},
          "execution_count": 21
        }
      ]
    },
    {
      "cell_type": "code",
      "source": [
        "positive_samples"
      ],
      "metadata": {
        "colab": {
          "base_uri": "https://localhost:8080/"
        },
        "id": "LYdRXL21T_RD",
        "outputId": "f8f5beb7-12a7-47f4-b205-14e1229797f9"
      },
      "execution_count": 22,
      "outputs": [
        {
          "output_type": "execute_result",
          "data": {
            "text/plain": [
              "array([[ 1.82863569, -1.59158191],\n",
              "       [ 2.17897146,  0.07857169],\n",
              "       [ 3.72980783,  1.68352766],\n",
              "       ...,\n",
              "       [ 4.10227304, -0.6384637 ],\n",
              "       [ 1.48002646, -1.37154078],\n",
              "       [ 3.93393393, -0.01034946]])"
            ]
          },
          "metadata": {},
          "execution_count": 22
        }
      ]
    },
    {
      "cell_type": "code",
      "source": [
        "inputs = np.vstack((negative_samples, positive_samples)).astype(np.float32)\n",
        "inputs"
      ],
      "metadata": {
        "colab": {
          "base_uri": "https://localhost:8080/"
        },
        "id": "ppoOh6GOUAfL",
        "outputId": "7fb1bc2a-c4bc-4ef4-c639-45032b0a0ec7"
      },
      "execution_count": 23,
      "outputs": [
        {
          "output_type": "execute_result",
          "data": {
            "text/plain": [
              "array([[-1.0617743 ,  2.6494958 ],\n",
              "       [-1.6839075 ,  3.2821898 ],\n",
              "       [ 0.19288641,  1.4898435 ],\n",
              "       ...,\n",
              "       [ 4.102273  , -0.6384637 ],\n",
              "       [ 1.4800265 , -1.3715408 ],\n",
              "       [ 3.933934  , -0.01034946]], dtype=float32)"
            ]
          },
          "metadata": {},
          "execution_count": 23
        }
      ]
    },
    {
      "cell_type": "code",
      "source": [
        "inputs.shape"
      ],
      "metadata": {
        "colab": {
          "base_uri": "https://localhost:8080/"
        },
        "id": "0P4iE0NEVq7t",
        "outputId": "cdd71b02-675e-4ebf-8371-370962c832c5"
      },
      "execution_count": 25,
      "outputs": [
        {
          "output_type": "execute_result",
          "data": {
            "text/plain": [
              "(2000, 2)"
            ]
          },
          "metadata": {},
          "execution_count": 25
        }
      ]
    },
    {
      "cell_type": "code",
      "source": [
        "targets = np.vstack((\n",
        "    np.zeros((num_samples_per_class, 1), dtype=\"float32\"),\n",
        "    np.ones((num_samples_per_class, 1), dtype=\"float32\")\n",
        "))\n",
        "targets"
      ],
      "metadata": {
        "colab": {
          "base_uri": "https://localhost:8080/"
        },
        "id": "HQxr7ng0U7a3",
        "outputId": "f473a166-9225-4e29-9b98-ae0bc4615481"
      },
      "execution_count": 24,
      "outputs": [
        {
          "output_type": "execute_result",
          "data": {
            "text/plain": [
              "array([[0.],\n",
              "       [0.],\n",
              "       [0.],\n",
              "       ...,\n",
              "       [1.],\n",
              "       [1.],\n",
              "       [1.]], dtype=float32)"
            ]
          },
          "metadata": {},
          "execution_count": 24
        }
      ]
    },
    {
      "cell_type": "code",
      "source": [
        "import matplotlib.pyplot as plt\n",
        "\n",
        "plt.scatter(inputs[:, 0], inputs[:, 1], c=targets[:, 0])\n",
        "plt.show()"
      ],
      "metadata": {
        "colab": {
          "base_uri": "https://localhost:8080/",
          "height": 265
        },
        "id": "ok3X_GneVQvG",
        "outputId": "65dccf96-8ca8-473f-9c9e-3be9a8e9d2cb"
      },
      "execution_count": 30,
      "outputs": [
        {
          "output_type": "display_data",
          "data": {
            "text/plain": [
              "<Figure size 432x288 with 1 Axes>"
            ],
            "image/png": "[encoded data removed]"
          },
          "metadata": {
            "needs_background": "light"
          }
        }
      ]
    },
    {
      "cell_type": "markdown",
      "source": [
        "## Linear classifier variables"
      ],
      "metadata": {
        "id": "NzXZWHA-W_2P"
      }
    },
    {
      "cell_type": "code",
      "source": [
        "input_dim = 2\n",
        "output_dim = 1\n",
        "W = tf.Variable(initial_value=tf.random.uniform(shape=(input_dim, output_dim))) \n",
        "b = tf.Variable(initial_value=tf.zeros(shape=(output_dim, )))"
      ],
      "metadata": {
        "id": "Ywy25g9JV3yE"
      },
      "execution_count": 32,
      "outputs": []
    },
    {
      "cell_type": "markdown",
      "source": [
        "## Forward pass function"
      ],
      "metadata": {
        "id": "5x7BlnupW9yj"
      }
    },
    {
      "cell_type": "code",
      "source": [
        "def model(inputs):\n",
        "  return tf.matmul(inputs, W) + b"
      ],
      "metadata": {
        "id": "enc8Wf8EXEHa"
      },
      "execution_count": 33,
      "outputs": []
    },
    {
      "cell_type": "markdown",
      "source": [
        "## Mean squared loss"
      ],
      "metadata": {
        "id": "wp0OayHWXNg9"
      }
    },
    {
      "cell_type": "code",
      "source": [
        "def square_loss(targets, predictions):\n",
        "  per_sample_losses = tf.square(targets - predictions)\n",
        "  return tf.reduce_mean(per_sample_losses)"
      ],
      "metadata": {
        "id": "naGz4s9FXQQ2"
      },
      "execution_count": 34,
      "outputs": []
    },
    {
      "cell_type": "markdown",
      "source": [
        "## Training step function"
      ],
      "metadata": {
        "id": "gp_L1bYjXj1B"
      }
    },
    {
      "cell_type": "code",
      "source": [
        "learning_rate = 0.1\n",
        "\n",
        "def training_step(inputs, targets):\n",
        "  with tf.GradientTape() as tape:\n",
        "    predictions = model(inputs)\n",
        "    loss = square_loss(targets, predictions)\n",
        "  grad_loss_wrt_W, grad_loss_wrt_b = tape.gradient(loss, [W, b])\n",
        "  W.assign_sub(grad_loss_wrt_W * learning_rate)\n",
        "  b.assign_sub(grad_loss_wrt_b * learning_rate)\n",
        "  return loss"
      ],
      "metadata": {
        "id": "A53XHxyiXmn6"
      },
      "execution_count": 37,
      "outputs": []
    },
    {
      "cell_type": "markdown",
      "source": [
        "## Batch training loop"
      ],
      "metadata": {
        "id": "kID5neCsYU4C"
      }
    },
    {
      "cell_type": "code",
      "source": [
        "for step in range(40):\n",
        "  loss = training_step(inputs, targets)\n",
        "  print(f\"Loss at step {step}: {loss:4f}\")"
      ],
      "metadata": {
        "colab": {
          "base_uri": "https://localhost:8080/"
        },
        "id": "cEiZ1FPCYeMM",
        "outputId": "8f58f309-481f-4453-92c7-35135e97b869"
      },
      "execution_count": 39,
      "outputs": [
        {
          "output_type": "stream",
          "name": "stdout",
          "text": [
            "Loss at step 0: 0.078629\n",
            "Loss at step 1: 0.073465\n",
            "Loss at step 2: 0.069160\n",
            "Loss at step 3: 0.065277\n",
            "Loss at step 4: 0.061736\n",
            "Loss at step 5: 0.058503\n",
            "Loss at step 6: 0.055551\n",
            "Loss at step 7: 0.052856\n",
            "Loss at step 8: 0.050395\n",
            "Loss at step 9: 0.048147\n",
            "Loss at step 10: 0.046095\n",
            "Loss at step 11: 0.044222\n",
            "Loss at step 12: 0.042511\n",
            "Loss at step 13: 0.040949\n",
            "Loss at step 14: 0.039522\n",
            "Loss at step 15: 0.038220\n",
            "Loss at step 16: 0.037030\n",
            "Loss at step 17: 0.035944\n",
            "Loss at step 18: 0.034953\n",
            "Loss at step 19: 0.034047\n",
            "Loss at step 20: 0.033221\n",
            "Loss at step 21: 0.032466\n",
            "Loss at step 22: 0.031776\n",
            "Loss at step 23: 0.031147\n",
            "Loss at step 24: 0.030572\n",
            "Loss at step 25: 0.030048\n",
            "Loss at step 26: 0.029568\n",
            "Loss at step 27: 0.029131\n",
            "Loss at step 28: 0.028731\n",
            "Loss at step 29: 0.028367\n",
            "Loss at step 30: 0.028033\n",
            "Loss at step 31: 0.027729\n",
            "Loss at step 32: 0.027452\n",
            "Loss at step 33: 0.027198\n",
            "Loss at step 34: 0.026966\n",
            "Loss at step 35: 0.026755\n",
            "Loss at step 36: 0.026562\n",
            "Loss at step 37: 0.026386\n",
            "Loss at step 38: 0.026225\n",
            "Loss at step 39: 0.026078\n"
          ]
        }
      ]
    },
    {
      "cell_type": "code",
      "source": [
        "predictions = model(inputs)\n",
        "plt.scatter(inputs[:, 0], inputs[:, 1], c=predictions[:, 0] > 0.5)\n",
        "plt.show()"
      ],
      "metadata": {
        "colab": {
          "base_uri": "https://localhost:8080/",
          "height": 265
        },
        "id": "HCbFA8NqYs0W",
        "outputId": "18347b29-61ac-489b-e24c-f920318f00e7"
      },
      "execution_count": 40,
      "outputs": [
        {
          "output_type": "display_data",
          "data": {
            "text/plain": [
              "<Figure size 432x288 with 1 Axes>"
            ],
            "image/png": "[encoded data removed]"
          },
          "metadata": {
            "needs_background": "light"
          }
        }
      ]
    },
    {
      "cell_type": "code",
      "source": [
        "x = np.linspace(-1, 4, 100)\n",
        "y = -W[0] / W[1] * x + (0.5 - b) / W[1]\n",
        "plt.plot(x, y, \"-r\")\n",
        "plt.scatter(inputs[:, 0], inputs[:, 1], c=predictions[:, 0] > 0.5)"
      ],
      "metadata": {
        "colab": {
          "base_uri": "https://localhost:8080/",
          "height": 282
        },
        "id": "7Zmc9IHjZCMH",
        "outputId": "9fd8d37e-b0de-4ac0-ac71-42dac5155675"
      },
      "execution_count": 42,
      "outputs": [
        {
          "output_type": "execute_result",
          "data": {
            "text/plain": [
              "<matplotlib.collections.PathCollection at 0x7fb0676a1650>"
            ]
          },
          "metadata": {},
          "execution_count": 42
        },
        {
          "output_type": "display_data",
          "data": {
            "text/plain": [
              "<Figure size 432x288 with 1 Axes>"
            ],
            "image/png": "[encoded data removed]"
          },
          "metadata": {
            "needs_background": "light"
          }
        }
      ]
    },
    {
      "cell_type": "markdown",
      "source": [
        "## Keras core API"
      ],
      "metadata": {
        "id": "Qb00A6VlZzXW"
      }
    },
    {
      "cell_type": "code",
      "source": [
        "from tensorflow import keras\n",
        "\n",
        "class SimpleDense(keras.layers.Layer):\n",
        "  def __init__(self, units, activation=None):\n",
        "    super().__init__()\n",
        "    self.units = units\n",
        "    self.activation = activation\n",
        "\n",
        "  def build(self, input_shape):\n",
        "    input_dim = input_shape[-1]\n",
        "    self.W = self.add_weight(\n",
        "        shape=(input_dim, self.units),\n",
        "        initializer=\"random_normal\",\n",
        "    )\n",
        "    self.b = self.add_weight(\n",
        "        shape=(self.units, ),\n",
        "        initializer=\"zeros\",\n",
        "    )\n",
        "\n",
        "  def call(self, inputs):\n",
        "    y = tf.matmul(inputs, self.W) + self.b\n",
        "    if self.activation is not None:\n",
        "      y = self.activation(y)\n",
        "    return y"
      ],
      "metadata": {
        "id": "EwzDi593aMkX"
      },
      "execution_count": 49,
      "outputs": []
    },
    {
      "cell_type": "code",
      "source": [
        "my_dense = SimpleDense(units=32, activation=tf.nn.relu)\n",
        "input_tensor = tf.ones(shape=(2, 784))\n",
        "output_tensor = my_dense(input_tensor)\n",
        "print(output_tensor.shape)"
      ],
      "metadata": {
        "colab": {
          "base_uri": "https://localhost:8080/"
        },
        "id": "Btr5LmpecUUh",
        "outputId": "6438b647-3b3d-4f29-81d0-e78c9ee810b6"
      },
      "execution_count": 50,
      "outputs": [
        {
          "output_type": "stream",
          "name": "stdout",
          "text": [
            "(2, 32)\n"
          ]
        }
      ]
    },
    {
      "cell_type": "code",
      "source": [
        "output_tensor"
      ],
      "metadata": {
        "colab": {
          "base_uri": "https://localhost:8080/"
        },
        "id": "su3pVnmuciIy",
        "outputId": "91838637-fd7f-450b-c904-58a60ef953f6"
      },
      "execution_count": 51,
      "outputs": [
        {
          "output_type": "execute_result",
          "data": {
            "text/plain": [
              "<tf.Tensor: shape=(2, 32), dtype=float32, numpy=\n",
              "array([[0.78972644, 1.2998883 , 2.5137732 , 0.        , 0.        ,\n",
              "        0.        , 1.6090902 , 2.2230911 , 0.        , 0.21335104,\n",
              "        0.        , 0.        , 0.7805301 , 0.        , 1.2029741 ,\n",
              "        0.        , 0.        , 1.0999581 , 1.3401698 , 0.0711031 ,\n",
              "        0.4971331 , 0.7023634 , 0.        , 0.        , 0.        ,\n",
              "        0.        , 0.        , 0.        , 0.2583846 , 1.5680048 ,\n",
              "        0.23783839, 0.        ],\n",
              "       [0.78972644, 1.2998883 , 2.5137732 , 0.        , 0.        ,\n",
              "        0.        , 1.6090902 , 2.2230911 , 0.        , 0.21335104,\n",
              "        0.        , 0.        , 0.7805301 , 0.        , 1.2029741 ,\n",
              "        0.        , 0.        , 1.0999581 , 1.3401698 , 0.0711031 ,\n",
              "        0.4971331 , 0.7023634 , 0.        , 0.        , 0.        ,\n",
              "        0.        , 0.        , 0.        , 0.2583846 , 1.5680048 ,\n",
              "        0.23783839, 0.        ]], dtype=float32)>"
            ]
          },
          "metadata": {},
          "execution_count": 51
        }
      ]
    },
    {
      "cell_type": "code",
      "source": [
        "from tensorflow.keras import models\n",
        "from tensorflow.keras import layers\n",
        "\n",
        "layer = layers.Dense(32, activation=\"relu\")\n",
        "layer"
      ],
      "metadata": {
        "colab": {
          "base_uri": "https://localhost:8080/"
        },
        "id": "urvfcqSvc_i3",
        "outputId": "6f421d56-f515-4f87-de68-f84b58339191"
      },
      "execution_count": 53,
      "outputs": [
        {
          "output_type": "execute_result",
          "data": {
            "text/plain": [
              "<keras.layers.core.dense.Dense at 0x7fb067ac9050>"
            ]
          },
          "metadata": {},
          "execution_count": 53
        }
      ]
    },
    {
      "cell_type": "code",
      "source": [
        "model = models.Sequential([\n",
        "  layers.Dense(32, activation=\"relu\"),\n",
        "  layers.Dense(32)\n",
        "])\n",
        "model"
      ],
      "metadata": {
        "colab": {
          "base_uri": "https://localhost:8080/"
        },
        "id": "Ykc4Ol-zdKhx",
        "outputId": "b1c0d102-a411-4369-8b69-65c3c0f9f77b"
      },
      "execution_count": 55,
      "outputs": [
        {
          "output_type": "execute_result",
          "data": {
            "text/plain": [
              "<keras.engine.sequential.Sequential at 0x7fb068004810>"
            ]
          },
          "metadata": {},
          "execution_count": 55
        }
      ]
    },
    {
      "cell_type": "code",
      "source": [
        "model = keras.Sequential([\n",
        "  SimpleDense(32, activation=\"relu\"),\n",
        "  SimpleDense(64, activation=\"relu\"),\n",
        "  SimpleDense(32, activation=\"relu\"),\n",
        "  SimpleDense(19, activation=\"softmax\")\n",
        "])\n",
        "model"
      ],
      "metadata": {
        "colab": {
          "base_uri": "https://localhost:8080/"
        },
        "id": "-F8Xz7o4ddNF",
        "outputId": "d2b64871-3e72-449b-a694-0d7d197096d5"
      },
      "execution_count": 57,
      "outputs": [
        {
          "output_type": "execute_result",
          "data": {
            "text/plain": [
              "<keras.engine.sequential.Sequential at 0x7fb0672a1710>"
            ]
          },
          "metadata": {},
          "execution_count": 57
        }
      ]
    },
    {
      "cell_type": "markdown",
      "source": [
        "## Compile step"
      ],
      "metadata": {
        "id": "s0DqboiTdxMF"
      }
    },
    {
      "cell_type": "code",
      "source": [
        "model = keras.Sequential([keras.layers.Dense(1)])\n",
        "model.compile(\n",
        "  optimizer=\"rmsprop\",\n",
        "  loss=\"mean_squared_error\",\n",
        "  metrics=[\"accuracy\"]\n",
        ")"
      ],
      "metadata": {
        "id": "1mn33VjreHh6"
      },
      "execution_count": 58,
      "outputs": []
    },
    {
      "cell_type": "code",
      "source": [
        "model"
      ],
      "metadata": {
        "colab": {
          "base_uri": "https://localhost:8080/"
        },
        "id": "M2X8OJlreVeI",
        "outputId": "d893e814-a516-4aa9-d6e9-32b2240ad100"
      },
      "execution_count": 59,
      "outputs": [
        {
          "output_type": "execute_result",
          "data": {
            "text/plain": [
              "<keras.engine.sequential.Sequential at 0x7fb0673b4610>"
            ]
          },
          "metadata": {},
          "execution_count": 59
        }
      ]
    },
    {
      "cell_type": "markdown",
      "source": [
        "## Fit() method"
      ],
      "metadata": {
        "id": "8aaGxiCYeWeF"
      }
    },
    {
      "cell_type": "code",
      "source": [
        "history = model.fit(\n",
        "    inputs,\n",
        "    targets,\n",
        "    epochs=5,\n",
        "    batch_size=128,\n",
        ")"
      ],
      "metadata": {
        "colab": {
          "base_uri": "https://localhost:8080/"
        },
        "id": "2zJlLugdeZni",
        "outputId": "c9652128-a04f-4ad8-9715-cfee7a6bf7fc"
      },
      "execution_count": 60,
      "outputs": [
        {
          "output_type": "stream",
          "name": "stdout",
          "text": [
            "Epoch 1/5\n",
            "16/16 [==============================] - 1s 2ms/step - loss: 4.9645 - accuracy: 0.1780\n",
            "Epoch 2/5\n",
            "16/16 [==============================] - 0s 2ms/step - loss: 4.7044 - accuracy: 0.1875\n",
            "Epoch 3/5\n",
            "16/16 [==============================] - 0s 2ms/step - loss: 4.4853 - accuracy: 0.1995\n",
            "Epoch 4/5\n",
            "16/16 [==============================] - 0s 2ms/step - loss: 4.2775 - accuracy: 0.2085\n",
            "Epoch 5/5\n",
            "16/16 [==============================] - 0s 2ms/step - loss: 4.0764 - accuracy: 0.2235\n"
          ]
        }
      ]
    },
    {
      "cell_type": "code",
      "source": [
        "history.history"
      ],
      "metadata": {
        "colab": {
          "base_uri": "https://localhost:8080/"
        },
        "id": "b_OOqbvZef-x",
        "outputId": "d28daf11-74fe-4723-bed7-5a88558742d4"
      },
      "execution_count": 61,
      "outputs": [
        {
          "output_type": "execute_result",
          "data": {
            "text/plain": [
              "{'accuracy': [0.17800000309944153,\n",
              "  0.1875,\n",
              "  0.19949999451637268,\n",
              "  0.2084999978542328,\n",
              "  0.22349999845027924],\n",
              " 'loss': [4.964537143707275,\n",
              "  4.70438814163208,\n",
              "  4.485321998596191,\n",
              "  4.277478218078613,\n",
              "  4.076448440551758]}"
            ]
          },
          "metadata": {},
          "execution_count": 61
        }
      ]
    },
    {
      "cell_type": "markdown",
      "source": [
        "## Monitoring loss and metrics on validation data"
      ],
      "metadata": {
        "id": "wz_auGwVeh4b"
      }
    },
    {
      "cell_type": "code",
      "source": [
        "model = keras.Sequential([keras.layers.Dense(1)])\n",
        "model.compile(\n",
        "    optimizer=keras.optimizers.RMSprop(learning_rate=0.1),\n",
        "    loss=keras.losses.MeanSquaredError(),\n",
        "    metrics=[keras.metrics.BinaryAccuracy()]\n",
        ")\n",
        "\n",
        "indices_permutation = np.random.permutation(len(inputs))\n",
        "shuffled_inputs = inputs[indices_permutation]\n",
        "shuffled_targets = targets[indices_permutation]\n",
        "\n",
        "num_validation_samples = int(0.3 * len(inputs))\n",
        "val_inputs = shuffled_inputs[:num_validation_samples]\n",
        "val_targets = shuffled_targets[:num_validation_samples]\n",
        "\n",
        "training_inputs = shuffled_inputs[num_validation_samples:]\n",
        "training_targets = shuffled_targets[num_validation_samples:]\n",
        "\n",
        "model.fit(\n",
        "    training_inputs,\n",
        "    training_targets,\n",
        "    epochs=5,\n",
        "    batch_size=16,\n",
        "    validation_data=(val_inputs, val_targets)\n",
        ")"
      ],
      "metadata": {
        "colab": {
          "base_uri": "https://localhost:8080/"
        },
        "id": "J-tfflmtm1mL",
        "outputId": "ac2ef955-28c1-4a8b-d6c2-9a8fac982b5b"
      },
      "execution_count": 64,
      "outputs": [
        {
          "output_type": "stream",
          "name": "stdout",
          "text": [
            "Epoch 1/5\n",
            "88/88 [==============================] - 1s 7ms/step - loss: 0.8764 - binary_accuracy: 0.8371 - val_loss: 0.1213 - val_binary_accuracy: 0.9983\n",
            "Epoch 2/5\n",
            "88/88 [==============================] - 0s 3ms/step - loss: 0.0701 - binary_accuracy: 0.9657 - val_loss: 0.0297 - val_binary_accuracy: 1.0000\n",
            "Epoch 3/5\n",
            "88/88 [==============================] - 0s 4ms/step - loss: 0.0667 - binary_accuracy: 0.9657 - val_loss: 0.0540 - val_binary_accuracy: 0.9867\n",
            "Epoch 4/5\n",
            "88/88 [==============================] - 0s 3ms/step - loss: 0.0712 - binary_accuracy: 0.9521 - val_loss: 0.0393 - val_binary_accuracy: 0.9933\n",
            "Epoch 5/5\n",
            "88/88 [==============================] - 0s 3ms/step - loss: 0.0734 - binary_accuracy: 0.9564 - val_loss: 0.0266 - val_binary_accuracy: 0.9983\n"
          ]
        },
        {
          "output_type": "execute_result",
          "data": {
            "text/plain": [
              "<keras.callbacks.History at 0x7fb067ad5710>"
            ]
          },
          "metadata": {},
          "execution_count": 64
        }
      ]
    },
    {
      "cell_type": "markdown",
      "source": [
        "## Inference"
      ],
      "metadata": {
        "id": "o3J_JONnoXgs"
      }
    },
    {
      "cell_type": "code",
      "source": [
        "predictions = model.predict(val_inputs, batch_size=128)\n",
        "predictions[:10]"
      ],
      "metadata": {
        "colab": {
          "base_uri": "https://localhost:8080/"
        },
        "id": "Kn2ujCiQt5fN",
        "outputId": "efa4de1f-8244-47c4-ca7e-50b9be433c55"
      },
      "execution_count": 65,
      "outputs": [
        {
          "output_type": "execute_result",
          "data": {
            "text/plain": [
              "array([[-0.16932735],\n",
              "       [ 0.2051808 ],\n",
              "       [ 1.0323881 ],\n",
              "       [-0.04770508],\n",
              "       [ 0.7202194 ],\n",
              "       [ 0.02455845],\n",
              "       [-0.30974677],\n",
              "       [ 0.34639117],\n",
              "       [ 0.03131732],\n",
              "       [ 0.88406014]], dtype=float32)"
            ]
          },
          "metadata": {},
          "execution_count": 65
        }
      ]
    },
    {
      "cell_type": "code",
      "source": [
        ""
      ],
      "metadata": {
        "colab": {
          "base_uri": "https://localhost:8080/"
        },
        "id": "Yog7gKUDuIfN",
        "outputId": "ec74dd0b-df6c-49d7-ad68-895b1b6e0c0e"
      },
      "execution_count": 67,
      "outputs": [
        {
          "output_type": "execute_result",
          "data": {
            "text/plain": [
              "array([[0.],\n",
              "       [0.],\n",
              "       [0.],\n",
              "       ...,\n",
              "       [1.],\n",
              "       [1.],\n",
              "       [1.]], dtype=float32)"
            ]
          },
          "metadata": {},
          "execution_count": 67
        }
      ]
    }
  ]
}