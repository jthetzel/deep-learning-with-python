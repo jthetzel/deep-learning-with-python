{
  "cells": [
    {
      "cell_type": "markdown",
      "source": [
        "## Load MNIST data"
      ],
      "metadata": {
        "id": "WSFniAyr-Gm2"
      },
      "id": "WSFniAyr-Gm2"
    },
    {
      "cell_type": "code",
      "source": [
        "from tensorflow.keras.datasets import mnist\n",
        "\n",
        "(train_images, train_labels), (test_images, test_labels) = mnist.load_data()"
      ],
      "metadata": {
        "id": "hr_IdByE-NtI"
      },
      "id": "hr_IdByE-NtI",
      "execution_count": 16,
      "outputs": []
    },
    {
      "cell_type": "code",
      "source": [
        "train_images.shape"
      ],
      "metadata": {
        "id": "PVaium6o-ddk",
        "outputId": "7a754e44-f399-43a7-d446-889cd19e0ffd",
        "colab": {
          "base_uri": "https://localhost:8080/"
        }
      },
      "id": "PVaium6o-ddk",
      "execution_count": 17,
      "outputs": [
        {
          "output_type": "execute_result",
          "data": {
            "text/plain": [
              "(60000, 28, 28)"
            ]
          },
          "metadata": {},
          "execution_count": 17
        }
      ]
    },
    {
      "cell_type": "code",
      "source": [
        "train_images[0].shape"
      ],
      "metadata": {
        "id": "W9p7DlLv-jSh",
        "outputId": "43cf0340-6f2f-465c-9fe1-e6b8a3d75484",
        "colab": {
          "base_uri": "https://localhost:8080/"
        }
      },
      "id": "W9p7DlLv-jSh",
      "execution_count": 18,
      "outputs": [
        {
          "output_type": "execute_result",
          "data": {
            "text/plain": [
              "(28, 28)"
            ]
          },
          "metadata": {},
          "execution_count": 18
        }
      ]
    },
    {
      "cell_type": "code",
      "source": [
        "train_images"
      ],
      "metadata": {
        "id": "2Yq1Z4-G_lHf",
        "outputId": "557aea78-230e-499a-9167-08ae4d3ed7fd",
        "colab": {
          "base_uri": "https://localhost:8080/"
        }
      },
      "id": "2Yq1Z4-G_lHf",
      "execution_count": 19,
      "outputs": [
        {
          "output_type": "execute_result",
          "data": {
            "text/plain": [
              "array([[[0, 0, 0, ..., 0, 0, 0],\n",
              "        [0, 0, 0, ..., 0, 0, 0],\n",
              "        [0, 0, 0, ..., 0, 0, 0],\n",
              "        ...,\n",
              "        [0, 0, 0, ..., 0, 0, 0],\n",
              "        [0, 0, 0, ..., 0, 0, 0],\n",
              "        [0, 0, 0, ..., 0, 0, 0]],\n",
              "\n",
              "       [[0, 0, 0, ..., 0, 0, 0],\n",
              "        [0, 0, 0, ..., 0, 0, 0],\n",
              "        [0, 0, 0, ..., 0, 0, 0],\n",
              "        ...,\n",
              "        [0, 0, 0, ..., 0, 0, 0],\n",
              "        [0, 0, 0, ..., 0, 0, 0],\n",
              "        [0, 0, 0, ..., 0, 0, 0]],\n",
              "\n",
              "       [[0, 0, 0, ..., 0, 0, 0],\n",
              "        [0, 0, 0, ..., 0, 0, 0],\n",
              "        [0, 0, 0, ..., 0, 0, 0],\n",
              "        ...,\n",
              "        [0, 0, 0, ..., 0, 0, 0],\n",
              "        [0, 0, 0, ..., 0, 0, 0],\n",
              "        [0, 0, 0, ..., 0, 0, 0]],\n",
              "\n",
              "       ...,\n",
              "\n",
              "       [[0, 0, 0, ..., 0, 0, 0],\n",
              "        [0, 0, 0, ..., 0, 0, 0],\n",
              "        [0, 0, 0, ..., 0, 0, 0],\n",
              "        ...,\n",
              "        [0, 0, 0, ..., 0, 0, 0],\n",
              "        [0, 0, 0, ..., 0, 0, 0],\n",
              "        [0, 0, 0, ..., 0, 0, 0]],\n",
              "\n",
              "       [[0, 0, 0, ..., 0, 0, 0],\n",
              "        [0, 0, 0, ..., 0, 0, 0],\n",
              "        [0, 0, 0, ..., 0, 0, 0],\n",
              "        ...,\n",
              "        [0, 0, 0, ..., 0, 0, 0],\n",
              "        [0, 0, 0, ..., 0, 0, 0],\n",
              "        [0, 0, 0, ..., 0, 0, 0]],\n",
              "\n",
              "       [[0, 0, 0, ..., 0, 0, 0],\n",
              "        [0, 0, 0, ..., 0, 0, 0],\n",
              "        [0, 0, 0, ..., 0, 0, 0],\n",
              "        ...,\n",
              "        [0, 0, 0, ..., 0, 0, 0],\n",
              "        [0, 0, 0, ..., 0, 0, 0],\n",
              "        [0, 0, 0, ..., 0, 0, 0]]], dtype=uint8)"
            ]
          },
          "metadata": {},
          "execution_count": 19
        }
      ]
    },
    {
      "cell_type": "code",
      "source": [
        "train_labels.shape"
      ],
      "metadata": {
        "id": "k-6FanvP-ouV",
        "outputId": "6b92fc4e-d672-4cfc-fd07-07b6eb5ecbcd",
        "colab": {
          "base_uri": "https://localhost:8080/"
        }
      },
      "id": "k-6FanvP-ouV",
      "execution_count": 20,
      "outputs": [
        {
          "output_type": "execute_result",
          "data": {
            "text/plain": [
              "(60000,)"
            ]
          },
          "metadata": {},
          "execution_count": 20
        }
      ]
    },
    {
      "cell_type": "code",
      "source": [
        "train_labels[0]"
      ],
      "metadata": {
        "id": "KWJxIXRy-sPA",
        "outputId": "071dc24b-21ba-4e26-fc6f-1ee3e3c9c20a",
        "colab": {
          "base_uri": "https://localhost:8080/"
        }
      },
      "id": "KWJxIXRy-sPA",
      "execution_count": 21,
      "outputs": [
        {
          "output_type": "execute_result",
          "data": {
            "text/plain": [
              "5"
            ]
          },
          "metadata": {},
          "execution_count": 21
        }
      ]
    },
    {
      "cell_type": "markdown",
      "source": [
        "## Network architecture"
      ],
      "metadata": {
        "id": "Iq4Ed7zu-tm6"
      },
      "id": "Iq4Ed7zu-tm6"
    },
    {
      "cell_type": "code",
      "source": [
        "from tensorflow import keras\n",
        "from tensorflow.keras import layers\n",
        "\n",
        "model = keras.Sequential([\n",
        "    layers.Dense(512, activation=\"relu\"),\n",
        "    layers.Dense(10, activation=\"softmax\")\n",
        "])"
      ],
      "metadata": {
        "id": "CWvio5kJ-x41"
      },
      "id": "CWvio5kJ-x41",
      "execution_count": 22,
      "outputs": []
    },
    {
      "cell_type": "code",
      "source": [
        "model.compile(\n",
        "    optimizer='rmsprop',\n",
        "    loss=\"sparse_categorical_crossentropy\",\n",
        "    metrics=[\"accuracy\"],\n",
        ")"
      ],
      "metadata": {
        "id": "c1dfLtR__EqH"
      },
      "id": "c1dfLtR__EqH",
      "execution_count": 23,
      "outputs": []
    },
    {
      "cell_type": "code",
      "source": [
        "train_images = train_images.reshape((60_000, 28*28))\n",
        "train_images = train_images.astype(\"float32\") / 255\n",
        "test_images = test_images.reshape((10_000, 28*28))\n",
        "test_images = test_images.astype(\"float32\") / 255"
      ],
      "metadata": {
        "id": "aLuRjpYm_V8-"
      },
      "id": "aLuRjpYm_V8-",
      "execution_count": 24,
      "outputs": []
    },
    {
      "cell_type": "code",
      "source": [
        "train_images.shape"
      ],
      "metadata": {
        "id": "Fj_QHFrJ_0nU",
        "outputId": "ac6836e1-5b48-4495-a3c3-bf45b787b0ed",
        "colab": {
          "base_uri": "https://localhost:8080/"
        }
      },
      "id": "Fj_QHFrJ_0nU",
      "execution_count": 26,
      "outputs": [
        {
          "output_type": "execute_result",
          "data": {
            "text/plain": [
              "(60000, 784)"
            ]
          },
          "metadata": {},
          "execution_count": 26
        }
      ]
    },
    {
      "cell_type": "code",
      "source": [
        "train_images[0].shape"
      ],
      "metadata": {
        "id": "jRoZuI7wAF15",
        "outputId": "5e18fbb0-6dc0-478b-8b66-4c629bb8924e",
        "colab": {
          "base_uri": "https://localhost:8080/"
        }
      },
      "id": "jRoZuI7wAF15",
      "execution_count": 29,
      "outputs": [
        {
          "output_type": "execute_result",
          "data": {
            "text/plain": [
              "(784,)"
            ]
          },
          "metadata": {},
          "execution_count": 29
        }
      ]
    },
    {
      "cell_type": "markdown",
      "source": [
        "## Fit model"
      ],
      "metadata": {
        "id": "YR_YtEC6AceS"
      },
      "id": "YR_YtEC6AceS"
    },
    {
      "cell_type": "code",
      "source": [
        "model.fit(train_images, train_labels, epochs=5, batch_size=128)"
      ],
      "metadata": {
        "id": "JueGVPO2AMSL",
        "outputId": "fc86f958-70b9-4865-cf6d-4852ef75f54d",
        "colab": {
          "base_uri": "https://localhost:8080/"
        }
      },
      "id": "JueGVPO2AMSL",
      "execution_count": 31,
      "outputs": [
        {
          "output_type": "stream",
          "name": "stdout",
          "text": [
            "Epoch 1/5\n",
            "469/469 [==============================] - 6s 11ms/step - loss: 0.2571 - accuracy: 0.9261\n",
            "Epoch 2/5\n",
            "469/469 [==============================] - 5s 10ms/step - loss: 0.1029 - accuracy: 0.9693\n",
            "Epoch 3/5\n",
            "469/469 [==============================] - 5s 11ms/step - loss: 0.0679 - accuracy: 0.9797\n",
            "Epoch 4/5\n",
            "469/469 [==============================] - 5s 11ms/step - loss: 0.0500 - accuracy: 0.9850\n",
            "Epoch 5/5\n",
            "469/469 [==============================] - 5s 11ms/step - loss: 0.0367 - accuracy: 0.9890\n"
          ]
        },
        {
          "output_type": "execute_result",
          "data": {
            "text/plain": [
              "<keras.callbacks.History at 0x7f0c7deb1290>"
            ]
          },
          "metadata": {},
          "execution_count": 31
        }
      ]
    },
    {
      "cell_type": "markdown",
      "source": [
        "## Predictions"
      ],
      "metadata": {
        "id": "xsdwLA6WARVq"
      },
      "id": "xsdwLA6WARVq"
    },
    {
      "cell_type": "code",
      "source": [
        "test_digits = test_images[0:10]\n",
        "predictions = model.predict(test_digits)\n",
        "predictions[0]"
      ],
      "metadata": {
        "id": "ly_o-LQ9Agpl",
        "outputId": "c09ee4ba-e98c-4e8e-8293-b9f304108c23",
        "colab": {
          "base_uri": "https://localhost:8080/"
        }
      },
      "id": "ly_o-LQ9Agpl",
      "execution_count": 32,
      "outputs": [
        {
          "output_type": "execute_result",
          "data": {
            "text/plain": [
              "array([3.0970842e-08, 1.4262080e-11, 2.3019065e-06, 9.8167056e-06,\n",
              "       3.3817825e-12, 5.6642417e-08, 1.3020269e-15, 9.9998713e-01,\n",
              "       9.4497757e-08, 5.8653200e-07], dtype=float32)"
            ]
          },
          "metadata": {},
          "execution_count": 32
        }
      ]
    },
    {
      "cell_type": "code",
      "source": [
        "predictions[0].argmax()"
      ],
      "metadata": {
        "id": "OPW7o2tMApRm",
        "outputId": "5a41b99a-9871-4552-d192-c41ef51366b8",
        "colab": {
          "base_uri": "https://localhost:8080/"
        }
      },
      "id": "OPW7o2tMApRm",
      "execution_count": 33,
      "outputs": [
        {
          "output_type": "execute_result",
          "data": {
            "text/plain": [
              "7"
            ]
          },
          "metadata": {},
          "execution_count": 33
        }
      ]
    },
    {
      "cell_type": "code",
      "source": [
        "import matplotlib.pyplot as plt\n",
        "\n",
        "(_train_images, _train_labels), (_test_images, _test_labels) = mnist.load_data()\n",
        "\n",
        "plt.imshow(_test_images[0])"
      ],
      "metadata": {
        "id": "GYb7NEH8At5Y",
        "outputId": "fe11e2f0-e819-4434-86d8-8c36e9b40f1d",
        "colab": {
          "base_uri": "https://localhost:8080/",
          "height": 282
        }
      },
      "id": "GYb7NEH8At5Y",
      "execution_count": 35,
      "outputs": [
        {
          "output_type": "execute_result",
          "data": {
            "text/plain": [
              "<matplotlib.image.AxesImage at 0x7f0c7d714910>"
            ]
          },
          "metadata": {},
          "execution_count": 35
        },
        {
          "output_type": "display_data",
          "data": {
            "text/plain": [
              "<Figure size 432x288 with 1 Axes>"
            ],
            "image/png": "[encoded data removed]"
          },
          "metadata": {
            "needs_background": "light"
          }
        }
      ]
    },
    {
      "cell_type": "markdown",
      "source": [
        "## Scalars rank 0"
      ],
      "metadata": {
        "id": "D9lCu-eRA3EC"
      },
      "id": "D9lCu-eRA3EC"
    },
    {
      "cell_type": "code",
      "source": [
        "import numpy as np\n",
        "\n",
        "x = np.array(12)\n",
        "x"
      ],
      "metadata": {
        "id": "Mc0HrPvmBXi6",
        "outputId": "0da64b0a-f059-4bc7-b425-ecdb355cb29a",
        "colab": {
          "base_uri": "https://localhost:8080/"
        }
      },
      "id": "Mc0HrPvmBXi6",
      "execution_count": 37,
      "outputs": [
        {
          "output_type": "execute_result",
          "data": {
            "text/plain": [
              "array(12)"
            ]
          },
          "metadata": {},
          "execution_count": 37
        }
      ]
    },
    {
      "cell_type": "code",
      "source": [
        "x.ndim"
      ],
      "metadata": {
        "id": "Sus0zEnpBax_",
        "outputId": "2346bcf1-5450-4ade-fd19-06a1b5e18919",
        "colab": {
          "base_uri": "https://localhost:8080/"
        }
      },
      "id": "Sus0zEnpBax_",
      "execution_count": 42,
      "outputs": [
        {
          "output_type": "execute_result",
          "data": {
            "text/plain": [
              "0"
            ]
          },
          "metadata": {},
          "execution_count": 42
        }
      ]
    },
    {
      "cell_type": "code",
      "source": [
        "x.shape"
      ],
      "metadata": {
        "id": "UaXn8bFABplZ",
        "outputId": "9627997b-6f54-4a77-b12b-0c738096d573",
        "colab": {
          "base_uri": "https://localhost:8080/"
        }
      },
      "id": "UaXn8bFABplZ",
      "execution_count": 43,
      "outputs": [
        {
          "output_type": "execute_result",
          "data": {
            "text/plain": [
              "()"
            ]
          },
          "metadata": {},
          "execution_count": 43
        }
      ]
    },
    {
      "cell_type": "code",
      "source": [
        "x"
      ],
      "metadata": {
        "id": "lm7C2YzxB2Zt",
        "outputId": "7aa6b157-0976-44c2-b6ba-360db4336418",
        "colab": {
          "base_uri": "https://localhost:8080/"
        }
      },
      "id": "lm7C2YzxB2Zt",
      "execution_count": 49,
      "outputs": [
        {
          "output_type": "execute_result",
          "data": {
            "text/plain": [
              "array(12)"
            ]
          },
          "metadata": {},
          "execution_count": 49
        }
      ]
    },
    {
      "cell_type": "markdown",
      "source": [
        "## Vectors rank 1"
      ],
      "metadata": {
        "id": "SIFReVJMBqJ6"
      },
      "id": "SIFReVJMBqJ6"
    },
    {
      "cell_type": "code",
      "source": [
        "x = np.array([12, 3, 6, 14, 7])\n",
        "x"
      ],
      "metadata": {
        "id": "JJ7hXkwEBuex",
        "outputId": "c6a4e09f-c7a2-4652-b67a-f0b165470472",
        "colab": {
          "base_uri": "https://localhost:8080/"
        }
      },
      "id": "JJ7hXkwEBuex",
      "execution_count": 50,
      "outputs": [
        {
          "output_type": "execute_result",
          "data": {
            "text/plain": [
              "array([12,  3,  6, 14,  7])"
            ]
          },
          "metadata": {},
          "execution_count": 50
        }
      ]
    },
    {
      "cell_type": "code",
      "source": [
        "x.ndim"
      ],
      "metadata": {
        "id": "1nSOYfuXCDLM",
        "outputId": "173162d6-438d-4d0f-e2f0-36a935535d78",
        "colab": {
          "base_uri": "https://localhost:8080/"
        }
      },
      "id": "1nSOYfuXCDLM",
      "execution_count": 51,
      "outputs": [
        {
          "output_type": "execute_result",
          "data": {
            "text/plain": [
              "1"
            ]
          },
          "metadata": {},
          "execution_count": 51
        }
      ]
    },
    {
      "cell_type": "code",
      "source": [
        "x.shape"
      ],
      "metadata": {
        "id": "87cXGk7kCEZ0",
        "outputId": "efccb300-4c5f-470a-a27f-5f8070f7cbba",
        "colab": {
          "base_uri": "https://localhost:8080/"
        }
      },
      "id": "87cXGk7kCEZ0",
      "execution_count": 52,
      "outputs": [
        {
          "output_type": "execute_result",
          "data": {
            "text/plain": [
              "(5,)"
            ]
          },
          "metadata": {},
          "execution_count": 52
        }
      ]
    },
    {
      "cell_type": "markdown",
      "source": [
        "## Matrices rank 2"
      ],
      "metadata": {
        "id": "nXWBJvmbCFGX"
      },
      "id": "nXWBJvmbCFGX"
    },
    {
      "cell_type": "code",
      "source": [
        "x = np.array([[5, 78, 2, 34, 0],\n",
        "              [6, 79, 3, 35, 1],\n",
        "              [7, 80, 4, 36, 2]])\n",
        "x.ndim"
      ],
      "metadata": {
        "id": "dkpRw9FNCJzy",
        "outputId": "a5812030-3b63-4535-938b-0f517ae7cb69",
        "colab": {
          "base_uri": "https://localhost:8080/"
        }
      },
      "id": "dkpRw9FNCJzy",
      "execution_count": 53,
      "outputs": [
        {
          "output_type": "execute_result",
          "data": {
            "text/plain": [
              "2"
            ]
          },
          "metadata": {},
          "execution_count": 53
        }
      ]
    },
    {
      "cell_type": "code",
      "source": [
        "x.shape"
      ],
      "metadata": {
        "id": "HtSBmr93CVom",
        "outputId": "829ee720-aa1e-45f2-8deb-d3add972207b",
        "colab": {
          "base_uri": "https://localhost:8080/"
        }
      },
      "id": "HtSBmr93CVom",
      "execution_count": 54,
      "outputs": [
        {
          "output_type": "execute_result",
          "data": {
            "text/plain": [
              "(3, 5)"
            ]
          },
          "metadata": {},
          "execution_count": 54
        }
      ]
    },
    {
      "cell_type": "markdown",
      "source": [
        "## Rank 3 tensors"
      ],
      "metadata": {
        "id": "xLCJBghkCXm6"
      },
      "id": "xLCJBghkCXm6"
    },
    {
      "cell_type": "code",
      "source": [
        "x = np.array([[[5, 78, 2, 34, 0],\n",
        "               [6, 79, 3, 35, 1],\n",
        "               [7, 80, 4, 36, 2]],\n",
        "              [[5, 78, 2, 34, 0],\n",
        "               [6, 79, 3, 35, 1],\n",
        "               [7, 80, 4, 36, 2]],\n",
        "              [[5, 78, 2, 34, 0],\n",
        "               [6, 79, 3, 35, 1],\n",
        "               [7, 80, 4, 36, 2]]])\n",
        "x.ndim"
      ],
      "metadata": {
        "id": "Nl-gS-2FCcOf",
        "outputId": "8d758c2c-6bd8-4fdf-f376-f83b7558fd32",
        "colab": {
          "base_uri": "https://localhost:8080/"
        }
      },
      "id": "Nl-gS-2FCcOf",
      "execution_count": 55,
      "outputs": [
        {
          "output_type": "execute_result",
          "data": {
            "text/plain": [
              "3"
            ]
          },
          "metadata": {},
          "execution_count": 55
        }
      ]
    },
    {
      "cell_type": "code",
      "source": [
        "x.shape"
      ],
      "metadata": {
        "id": "0wOVPnCeC4-r",
        "outputId": "5c3f3185-bd67-40fb-cdcf-f3dbccf986e7",
        "colab": {
          "base_uri": "https://localhost:8080/"
        }
      },
      "id": "0wOVPnCeC4-r",
      "execution_count": 56,
      "outputs": [
        {
          "output_type": "execute_result",
          "data": {
            "text/plain": [
              "(3, 3, 5)"
            ]
          },
          "metadata": {},
          "execution_count": 56
        }
      ]
    },
    {
      "cell_type": "markdown",
      "source": [
        "## Key attributes"
      ],
      "metadata": {
        "id": "RUzVVln1C8FF"
      },
      "id": "RUzVVln1C8FF"
    },
    {
      "cell_type": "code",
      "source": [
        "from tensorflow.keras.datasets import mnist\n",
        "\n",
        "(train_images, train_labels), (test_images, test_labels) = mnist.load_data()"
      ],
      "metadata": {
        "id": "Yi33LPuyC_jm"
      },
      "id": "Yi33LPuyC_jm",
      "execution_count": 58,
      "outputs": []
    },
    {
      "cell_type": "code",
      "source": [
        "train_images.ndim"
      ],
      "metadata": {
        "id": "W9Oq1XIuDII_",
        "outputId": "6801e583-912e-417c-db4f-f9feeed64b87",
        "colab": {
          "base_uri": "https://localhost:8080/"
        }
      },
      "id": "W9Oq1XIuDII_",
      "execution_count": 59,
      "outputs": [
        {
          "output_type": "execute_result",
          "data": {
            "text/plain": [
              "3"
            ]
          },
          "metadata": {},
          "execution_count": 59
        }
      ]
    },
    {
      "cell_type": "code",
      "source": [
        "train_images.shape"
      ],
      "metadata": {
        "id": "-vHddgvfDRSj",
        "outputId": "04978e94-bcfa-4587-9d6b-2f4b9b40c003",
        "colab": {
          "base_uri": "https://localhost:8080/"
        }
      },
      "id": "-vHddgvfDRSj",
      "execution_count": 60,
      "outputs": [
        {
          "output_type": "execute_result",
          "data": {
            "text/plain": [
              "(60000, 28, 28)"
            ]
          },
          "metadata": {},
          "execution_count": 60
        }
      ]
    },
    {
      "cell_type": "code",
      "source": [
        "digit = train_images[4]\n",
        "plt.imshow(digit, cmap=plt.cm.binary)\n",
        "plt.show()"
      ],
      "metadata": {
        "id": "zmy0CQ51DS2m",
        "outputId": "d0275564-465b-4f4b-cd19-f3f73d0cf8fb",
        "colab": {
          "base_uri": "https://localhost:8080/",
          "height": 265
        }
      },
      "id": "zmy0CQ51DS2m",
      "execution_count": 61,
      "outputs": [
        {
          "output_type": "display_data",
          "data": {
            "text/plain": [
              "<Figure size 432x288 with 1 Axes>"
            ],
            "image/png": "[encoded data removed]"
          },
          "metadata": {
            "needs_background": "light"
          }
        }
      ]
    },
    {
      "cell_type": "code",
      "source": [
        "train_labels[4]"
      ],
      "metadata": {
        "id": "LmgkPceADbAm",
        "outputId": "979c5bf9-ba8d-4693-b745-3a10d9d6c465",
        "colab": {
          "base_uri": "https://localhost:8080/"
        }
      },
      "id": "LmgkPceADbAm",
      "execution_count": 63,
      "outputs": [
        {
          "output_type": "execute_result",
          "data": {
            "text/plain": [
              "9"
            ]
          },
          "metadata": {},
          "execution_count": 63
        }
      ]
    },
    {
      "cell_type": "markdown",
      "source": [
        "## Manipulating tensors"
      ],
      "metadata": {
        "id": "pjrkZNuyDp24"
      },
      "id": "pjrkZNuyDp24"
    },
    {
      "cell_type": "code",
      "source": [
        "slice = train_images[10:100]\n",
        "slice.shape"
      ],
      "metadata": {
        "id": "MjOMPwzQDt8Z",
        "outputId": "d5885cb5-ed1a-47a0-ae89-ecb5c45064d9",
        "colab": {
          "base_uri": "https://localhost:8080/"
        }
      },
      "id": "MjOMPwzQDt8Z",
      "execution_count": 65,
      "outputs": [
        {
          "output_type": "execute_result",
          "data": {
            "text/plain": [
              "(90, 28, 28)"
            ]
          },
          "metadata": {},
          "execution_count": 65
        }
      ]
    },
    {
      "cell_type": "code",
      "source": [
        "slice = train_images[10:100, :, :]\n",
        "slice.shape"
      ],
      "metadata": {
        "id": "e95o8A5oDyoF",
        "outputId": "6da31eed-d4e9-43c6-9aa5-030bd8173297",
        "colab": {
          "base_uri": "https://localhost:8080/"
        }
      },
      "id": "e95o8A5oDyoF",
      "execution_count": 66,
      "outputs": [
        {
          "output_type": "execute_result",
          "data": {
            "text/plain": [
              "(90, 28, 28)"
            ]
          },
          "metadata": {},
          "execution_count": 66
        }
      ]
    },
    {
      "cell_type": "code",
      "source": [
        "slice = train_images[10:100, 0:28, 0:28]\n",
        "slice.shape"
      ],
      "metadata": {
        "id": "QJJfEBgED65-",
        "outputId": "3144c063-afbc-480a-c7a1-ab50d45b0795",
        "colab": {
          "base_uri": "https://localhost:8080/"
        }
      },
      "id": "QJJfEBgED65-",
      "execution_count": 67,
      "outputs": [
        {
          "output_type": "execute_result",
          "data": {
            "text/plain": [
              "(90, 28, 28)"
            ]
          },
          "metadata": {},
          "execution_count": 67
        }
      ]
    },
    {
      "cell_type": "code",
      "source": [
        "slice = train_images[:, 14:, 14:]\n",
        "slice.shape"
      ],
      "metadata": {
        "id": "zTH-UL0pEA0a",
        "outputId": "0d30c402-1fc3-4ab0-f0e7-6ce424981acf",
        "colab": {
          "base_uri": "https://localhost:8080/"
        }
      },
      "id": "zTH-UL0pEA0a",
      "execution_count": 68,
      "outputs": [
        {
          "output_type": "execute_result",
          "data": {
            "text/plain": [
              "(60000, 14, 14)"
            ]
          },
          "metadata": {},
          "execution_count": 68
        }
      ]
    },
    {
      "cell_type": "code",
      "source": [
        "slice[0]"
      ],
      "metadata": {
        "id": "RgkQw_WYEMEn",
        "outputId": "5e605043-c990-460e-d807-034b61637b80",
        "colab": {
          "base_uri": "https://localhost:8080/"
        }
      },
      "id": "RgkQw_WYEMEn",
      "execution_count": 70,
      "outputs": [
        {
          "output_type": "execute_result",
          "data": {
            "text/plain": [
              "array([[240, 253, 253, 119,  25,   0,   0,   0,   0,   0,   0,   0,   0,\n",
              "          0],\n",
              "       [ 45, 186, 253, 253, 150,  27,   0,   0,   0,   0,   0,   0,   0,\n",
              "          0],\n",
              "       [  0,  16,  93, 252, 253, 187,   0,   0,   0,   0,   0,   0,   0,\n",
              "          0],\n",
              "       [  0,   0,   0, 249, 253, 249,  64,   0,   0,   0,   0,   0,   0,\n",
              "          0],\n",
              "       [ 46, 130, 183, 253, 253, 207,   2,   0,   0,   0,   0,   0,   0,\n",
              "          0],\n",
              "       [229, 253, 253, 253, 250, 182,   0,   0,   0,   0,   0,   0,   0,\n",
              "          0],\n",
              "       [253, 253, 253, 201,  78,   0,   0,   0,   0,   0,   0,   0,   0,\n",
              "          0],\n",
              "       [253, 198,  81,   2,   0,   0,   0,   0,   0,   0,   0,   0,   0,\n",
              "          0],\n",
              "       [ 80,   9,   0,   0,   0,   0,   0,   0,   0,   0,   0,   0,   0,\n",
              "          0],\n",
              "       [  0,   0,   0,   0,   0,   0,   0,   0,   0,   0,   0,   0,   0,\n",
              "          0],\n",
              "       [  0,   0,   0,   0,   0,   0,   0,   0,   0,   0,   0,   0,   0,\n",
              "          0],\n",
              "       [  0,   0,   0,   0,   0,   0,   0,   0,   0,   0,   0,   0,   0,\n",
              "          0],\n",
              "       [  0,   0,   0,   0,   0,   0,   0,   0,   0,   0,   0,   0,   0,\n",
              "          0],\n",
              "       [  0,   0,   0,   0,   0,   0,   0,   0,   0,   0,   0,   0,   0,\n",
              "          0]], dtype=uint8)"
            ]
          },
          "metadata": {},
          "execution_count": 70
        }
      ]
    },
    {
      "cell_type": "code",
      "source": [
        "slice = train_images[:, 7:-7, 7:-7]\n",
        "slice.shape"
      ],
      "metadata": {
        "id": "YBISBs90EVSP",
        "outputId": "1ff16542-a60e-4240-ce38-50948d87936d",
        "colab": {
          "base_uri": "https://localhost:8080/"
        }
      },
      "id": "YBISBs90EVSP",
      "execution_count": 71,
      "outputs": [
        {
          "output_type": "execute_result",
          "data": {
            "text/plain": [
              "(60000, 14, 14)"
            ]
          },
          "metadata": {},
          "execution_count": 71
        }
      ]
    },
    {
      "cell_type": "code",
      "source": [
        "slice[0]"
      ],
      "metadata": {
        "id": "U2lpuKPyEZjW",
        "outputId": "adca1679-4535-45a4-bf91-6305abef1b1c",
        "colab": {
          "base_uri": "https://localhost:8080/"
        }
      },
      "id": "U2lpuKPyEZjW",
      "execution_count": 72,
      "outputs": [
        {
          "output_type": "execute_result",
          "data": {
            "text/plain": [
              "array([[ 49, 238, 253, 253, 253, 253, 253, 253, 253, 253, 251,  93,  82,\n",
              "         82],\n",
              "       [ 18, 219, 253, 253, 253, 253, 253, 198, 182, 247, 241,   0,   0,\n",
              "          0],\n",
              "       [  0,  80, 156, 107, 253, 253, 205,  11,   0,  43, 154,   0,   0,\n",
              "          0],\n",
              "       [  0,   0,  14,   1, 154, 253,  90,   0,   0,   0,   0,   0,   0,\n",
              "          0],\n",
              "       [  0,   0,   0,   0, 139, 253, 190,   2,   0,   0,   0,   0,   0,\n",
              "          0],\n",
              "       [  0,   0,   0,   0,  11, 190, 253,  70,   0,   0,   0,   0,   0,\n",
              "          0],\n",
              "       [  0,   0,   0,   0,   0,  35, 241, 225, 160, 108,   1,   0,   0,\n",
              "          0],\n",
              "       [  0,   0,   0,   0,   0,   0,  81, 240, 253, 253, 119,  25,   0,\n",
              "          0],\n",
              "       [  0,   0,   0,   0,   0,   0,   0,  45, 186, 253, 253, 150,  27,\n",
              "          0],\n",
              "       [  0,   0,   0,   0,   0,   0,   0,   0,  16,  93, 252, 253, 187,\n",
              "          0],\n",
              "       [  0,   0,   0,   0,   0,   0,   0,   0,   0,   0, 249, 253, 249,\n",
              "         64],\n",
              "       [  0,   0,   0,   0,   0,   0,   0,  46, 130, 183, 253, 253, 207,\n",
              "          2],\n",
              "       [  0,   0,   0,   0,   0,  39, 148, 229, 253, 253, 253, 250, 182,\n",
              "          0],\n",
              "       [  0,   0,   0,  24, 114, 221, 253, 253, 253, 253, 201,  78,   0,\n",
              "          0]], dtype=uint8)"
            ]
          },
          "metadata": {},
          "execution_count": 72
        }
      ]
    },
    {
      "cell_type": "markdown",
      "source": [
        "## Batches"
      ],
      "metadata": {
        "id": "6AjiAMwqEa8m"
      },
      "id": "6AjiAMwqEa8m"
    },
    {
      "cell_type": "code",
      "source": [
        "batch = train_images[:128]\n",
        "batch.shape"
      ],
      "metadata": {
        "id": "H6WJc3KvEedX",
        "outputId": "2c9ed6f2-a015-49fb-8f36-c304f994bb1b",
        "colab": {
          "base_uri": "https://localhost:8080/"
        }
      },
      "id": "H6WJc3KvEedX",
      "execution_count": 73,
      "outputs": [
        {
          "output_type": "execute_result",
          "data": {
            "text/plain": [
              "(128, 28, 28)"
            ]
          },
          "metadata": {},
          "execution_count": 73
        }
      ]
    },
    {
      "cell_type": "code",
      "source": [
        "n=3\n",
        "batch = train_images[128*n : 128*(n+1)]\n",
        "batch.shape"
      ],
      "metadata": {
        "id": "owR091D3EoNF",
        "outputId": "3e61abbd-3056-4124-9cc5-fccfe054db38",
        "colab": {
          "base_uri": "https://localhost:8080/"
        }
      },
      "id": "owR091D3EoNF",
      "execution_count": 80,
      "outputs": [
        {
          "output_type": "execute_result",
          "data": {
            "text/plain": [
              "(128, 28, 28)"
            ]
          },
          "metadata": {},
          "execution_count": 80
        }
      ]
    },
    {
      "cell_type": "markdown",
      "source": [
        "## Element-wise operations"
      ],
      "metadata": {
        "id": "yMoHxaOwEyXu"
      },
      "id": "yMoHxaOwEyXu"
    },
    {
      "cell_type": "code",
      "source": [
        "def naive_relu(x):\n",
        "  assert len(x.shape) == 2\n",
        "  x = x.copy()\n",
        "  for i in range(x.shape[0]):\n",
        "    for j in range(x.shape[1]):\n",
        "      x[i, j] = max(x[i, j], 0)\n",
        "  return x"
      ],
      "metadata": {
        "id": "ONBqsFO3FBv7"
      },
      "id": "ONBqsFO3FBv7",
      "execution_count": 81,
      "outputs": []
    },
    {
      "cell_type": "code",
      "source": [
        "digit = train_images[0]\n",
        "naive_relu(digit)"
      ],
      "metadata": {
        "id": "dErlnDSxFnTO",
        "outputId": "95a58e2a-cafa-47f5-d0a5-301434664ef6",
        "colab": {
          "base_uri": "https://localhost:8080/"
        }
      },
      "id": "dErlnDSxFnTO",
      "execution_count": 84,
      "outputs": [
        {
          "output_type": "execute_result",
          "data": {
            "text/plain": [
              "array([[  0,   0,   0,   0,   0,   0,   0,   0,   0,   0,   0,   0,   0,\n",
              "          0,   0,   0,   0,   0,   0,   0,   0,   0,   0,   0,   0,   0,\n",
              "          0,   0],\n",
              "       [  0,   0,   0,   0,   0,   0,   0,   0,   0,   0,   0,   0,   0,\n",
              "          0,   0,   0,   0,   0,   0,   0,   0,   0,   0,   0,   0,   0,\n",
              "          0,   0],\n",
              "       [  0,   0,   0,   0,   0,   0,   0,   0,   0,   0,   0,   0,   0,\n",
              "          0,   0,   0,   0,   0,   0,   0,   0,   0,   0,   0,   0,   0,\n",
              "          0,   0],\n",
              "       [  0,   0,   0,   0,   0,   0,   0,   0,   0,   0,   0,   0,   0,\n",
              "          0,   0,   0,   0,   0,   0,   0,   0,   0,   0,   0,   0,   0,\n",
              "          0,   0],\n",
              "       [  0,   0,   0,   0,   0,   0,   0,   0,   0,   0,   0,   0,   0,\n",
              "          0,   0,   0,   0,   0,   0,   0,   0,   0,   0,   0,   0,   0,\n",
              "          0,   0],\n",
              "       [  0,   0,   0,   0,   0,   0,   0,   0,   0,   0,   0,   0,   3,\n",
              "         18,  18,  18, 126, 136, 175,  26, 166, 255, 247, 127,   0,   0,\n",
              "          0,   0],\n",
              "       [  0,   0,   0,   0,   0,   0,   0,   0,  30,  36,  94, 154, 170,\n",
              "        253, 253, 253, 253, 253, 225, 172, 253, 242, 195,  64,   0,   0,\n",
              "          0,   0],\n",
              "       [  0,   0,   0,   0,   0,   0,   0,  49, 238, 253, 253, 253, 253,\n",
              "        253, 253, 253, 253, 251,  93,  82,  82,  56,  39,   0,   0,   0,\n",
              "          0,   0],\n",
              "       [  0,   0,   0,   0,   0,   0,   0,  18, 219, 253, 253, 253, 253,\n",
              "        253, 198, 182, 247, 241,   0,   0,   0,   0,   0,   0,   0,   0,\n",
              "          0,   0],\n",
              "       [  0,   0,   0,   0,   0,   0,   0,   0,  80, 156, 107, 253, 253,\n",
              "        205,  11,   0,  43, 154,   0,   0,   0,   0,   0,   0,   0,   0,\n",
              "          0,   0],\n",
              "       [  0,   0,   0,   0,   0,   0,   0,   0,   0,  14,   1, 154, 253,\n",
              "         90,   0,   0,   0,   0,   0,   0,   0,   0,   0,   0,   0,   0,\n",
              "          0,   0],\n",
              "       [  0,   0,   0,   0,   0,   0,   0,   0,   0,   0,   0, 139, 253,\n",
              "        190,   2,   0,   0,   0,   0,   0,   0,   0,   0,   0,   0,   0,\n",
              "          0,   0],\n",
              "       [  0,   0,   0,   0,   0,   0,   0,   0,   0,   0,   0,  11, 190,\n",
              "        253,  70,   0,   0,   0,   0,   0,   0,   0,   0,   0,   0,   0,\n",
              "          0,   0],\n",
              "       [  0,   0,   0,   0,   0,   0,   0,   0,   0,   0,   0,   0,  35,\n",
              "        241, 225, 160, 108,   1,   0,   0,   0,   0,   0,   0,   0,   0,\n",
              "          0,   0],\n",
              "       [  0,   0,   0,   0,   0,   0,   0,   0,   0,   0,   0,   0,   0,\n",
              "         81, 240, 253, 253, 119,  25,   0,   0,   0,   0,   0,   0,   0,\n",
              "          0,   0],\n",
              "       [  0,   0,   0,   0,   0,   0,   0,   0,   0,   0,   0,   0,   0,\n",
              "          0,  45, 186, 253, 253, 150,  27,   0,   0,   0,   0,   0,   0,\n",
              "          0,   0],\n",
              "       [  0,   0,   0,   0,   0,   0,   0,   0,   0,   0,   0,   0,   0,\n",
              "          0,   0,  16,  93, 252, 253, 187,   0,   0,   0,   0,   0,   0,\n",
              "          0,   0],\n",
              "       [  0,   0,   0,   0,   0,   0,   0,   0,   0,   0,   0,   0,   0,\n",
              "          0,   0,   0,   0, 249, 253, 249,  64,   0,   0,   0,   0,   0,\n",
              "          0,   0],\n",
              "       [  0,   0,   0,   0,   0,   0,   0,   0,   0,   0,   0,   0,   0,\n",
              "          0,  46, 130, 183, 253, 253, 207,   2,   0,   0,   0,   0,   0,\n",
              "          0,   0],\n",
              "       [  0,   0,   0,   0,   0,   0,   0,   0,   0,   0,   0,   0,  39,\n",
              "        148, 229, 253, 253, 253, 250, 182,   0,   0,   0,   0,   0,   0,\n",
              "          0,   0],\n",
              "       [  0,   0,   0,   0,   0,   0,   0,   0,   0,   0,  24, 114, 221,\n",
              "        253, 253, 253, 253, 201,  78,   0,   0,   0,   0,   0,   0,   0,\n",
              "          0,   0],\n",
              "       [  0,   0,   0,   0,   0,   0,   0,   0,  23,  66, 213, 253, 253,\n",
              "        253, 253, 198,  81,   2,   0,   0,   0,   0,   0,   0,   0,   0,\n",
              "          0,   0],\n",
              "       [  0,   0,   0,   0,   0,   0,  18, 171, 219, 253, 253, 253, 253,\n",
              "        195,  80,   9,   0,   0,   0,   0,   0,   0,   0,   0,   0,   0,\n",
              "          0,   0],\n",
              "       [  0,   0,   0,   0,  55, 172, 226, 253, 253, 253, 253, 244, 133,\n",
              "         11,   0,   0,   0,   0,   0,   0,   0,   0,   0,   0,   0,   0,\n",
              "          0,   0],\n",
              "       [  0,   0,   0,   0, 136, 253, 253, 253, 212, 135, 132,  16,   0,\n",
              "          0,   0,   0,   0,   0,   0,   0,   0,   0,   0,   0,   0,   0,\n",
              "          0,   0],\n",
              "       [  0,   0,   0,   0,   0,   0,   0,   0,   0,   0,   0,   0,   0,\n",
              "          0,   0,   0,   0,   0,   0,   0,   0,   0,   0,   0,   0,   0,\n",
              "          0,   0],\n",
              "       [  0,   0,   0,   0,   0,   0,   0,   0,   0,   0,   0,   0,   0,\n",
              "          0,   0,   0,   0,   0,   0,   0,   0,   0,   0,   0,   0,   0,\n",
              "          0,   0],\n",
              "       [  0,   0,   0,   0,   0,   0,   0,   0,   0,   0,   0,   0,   0,\n",
              "          0,   0,   0,   0,   0,   0,   0,   0,   0,   0,   0,   0,   0,\n",
              "          0,   0]], dtype=uint8)"
            ]
          },
          "metadata": {},
          "execution_count": 84
        }
      ]
    },
    {
      "cell_type": "code",
      "source": [
        "def naive_add(x, y):\n",
        "  assert len(x.shape) == 2\n",
        "  assert x.shape == y.shape\n",
        "  x = x.copy()\n",
        "  for i in range(x.shape[0]):\n",
        "    for j in range(x.shape[1]):\n",
        "      x[i, j] += y[i, j]\n",
        "  return x"
      ],
      "metadata": {
        "id": "BSmw2qtcF9uB"
      },
      "id": "BSmw2qtcF9uB",
      "execution_count": 89,
      "outputs": []
    },
    {
      "cell_type": "code",
      "source": [
        "naive_add(digit, digit)"
      ],
      "metadata": {
        "id": "U1PMsM35GajY",
        "outputId": "4a8b2b4f-97a2-4592-ebe4-f0d45e1b1113",
        "colab": {
          "base_uri": "https://localhost:8080/"
        }
      },
      "id": "U1PMsM35GajY",
      "execution_count": 90,
      "outputs": [
        {
          "output_type": "stream",
          "name": "stderr",
          "text": [
            "/usr/local/lib/python3.7/dist-packages/ipykernel_launcher.py:7: RuntimeWarning: overflow encountered in ubyte_scalars\n",
            "  import sys\n"
          ]
        },
        {
          "output_type": "execute_result",
          "data": {
            "text/plain": [
              "array([[  0,   0,   0,   0,   0,   0,   0,   0,   0,   0,   0,   0,   0,\n",
              "          0,   0,   0,   0,   0,   0,   0,   0,   0,   0,   0,   0,   0,\n",
              "          0,   0],\n",
              "       [  0,   0,   0,   0,   0,   0,   0,   0,   0,   0,   0,   0,   0,\n",
              "          0,   0,   0,   0,   0,   0,   0,   0,   0,   0,   0,   0,   0,\n",
              "          0,   0],\n",
              "       [  0,   0,   0,   0,   0,   0,   0,   0,   0,   0,   0,   0,   0,\n",
              "          0,   0,   0,   0,   0,   0,   0,   0,   0,   0,   0,   0,   0,\n",
              "          0,   0],\n",
              "       [  0,   0,   0,   0,   0,   0,   0,   0,   0,   0,   0,   0,   0,\n",
              "          0,   0,   0,   0,   0,   0,   0,   0,   0,   0,   0,   0,   0,\n",
              "          0,   0],\n",
              "       [  0,   0,   0,   0,   0,   0,   0,   0,   0,   0,   0,   0,   0,\n",
              "          0,   0,   0,   0,   0,   0,   0,   0,   0,   0,   0,   0,   0,\n",
              "          0,   0],\n",
              "       [  0,   0,   0,   0,   0,   0,   0,   0,   0,   0,   0,   0,   6,\n",
              "         36,  36,  36, 252,  16,  94,  52,  76, 254, 238, 254,   0,   0,\n",
              "          0,   0],\n",
              "       [  0,   0,   0,   0,   0,   0,   0,   0,  60,  72, 188,  52,  84,\n",
              "        250, 250, 250, 250, 250, 194,  88, 250, 228, 134, 128,   0,   0,\n",
              "          0,   0],\n",
              "       [  0,   0,   0,   0,   0,   0,   0,  98, 220, 250, 250, 250, 250,\n",
              "        250, 250, 250, 250, 246, 186, 164, 164, 112,  78,   0,   0,   0,\n",
              "          0,   0],\n",
              "       [  0,   0,   0,   0,   0,   0,   0,  36, 182, 250, 250, 250, 250,\n",
              "        250, 140, 108, 238, 226,   0,   0,   0,   0,   0,   0,   0,   0,\n",
              "          0,   0],\n",
              "       [  0,   0,   0,   0,   0,   0,   0,   0, 160,  56, 214, 250, 250,\n",
              "        154,  22,   0,  86,  52,   0,   0,   0,   0,   0,   0,   0,   0,\n",
              "          0,   0],\n",
              "       [  0,   0,   0,   0,   0,   0,   0,   0,   0,  28,   2,  52, 250,\n",
              "        180,   0,   0,   0,   0,   0,   0,   0,   0,   0,   0,   0,   0,\n",
              "          0,   0],\n",
              "       [  0,   0,   0,   0,   0,   0,   0,   0,   0,   0,   0,  22, 250,\n",
              "        124,   4,   0,   0,   0,   0,   0,   0,   0,   0,   0,   0,   0,\n",
              "          0,   0],\n",
              "       [  0,   0,   0,   0,   0,   0,   0,   0,   0,   0,   0,  22, 124,\n",
              "        250, 140,   0,   0,   0,   0,   0,   0,   0,   0,   0,   0,   0,\n",
              "          0,   0],\n",
              "       [  0,   0,   0,   0,   0,   0,   0,   0,   0,   0,   0,   0,  70,\n",
              "        226, 194,  64, 216,   2,   0,   0,   0,   0,   0,   0,   0,   0,\n",
              "          0,   0],\n",
              "       [  0,   0,   0,   0,   0,   0,   0,   0,   0,   0,   0,   0,   0,\n",
              "        162, 224, 250, 250, 238,  50,   0,   0,   0,   0,   0,   0,   0,\n",
              "          0,   0],\n",
              "       [  0,   0,   0,   0,   0,   0,   0,   0,   0,   0,   0,   0,   0,\n",
              "          0,  90, 116, 250, 250,  44,  54,   0,   0,   0,   0,   0,   0,\n",
              "          0,   0],\n",
              "       [  0,   0,   0,   0,   0,   0,   0,   0,   0,   0,   0,   0,   0,\n",
              "          0,   0,  32, 186, 248, 250, 118,   0,   0,   0,   0,   0,   0,\n",
              "          0,   0],\n",
              "       [  0,   0,   0,   0,   0,   0,   0,   0,   0,   0,   0,   0,   0,\n",
              "          0,   0,   0,   0, 242, 250, 242, 128,   0,   0,   0,   0,   0,\n",
              "          0,   0],\n",
              "       [  0,   0,   0,   0,   0,   0,   0,   0,   0,   0,   0,   0,   0,\n",
              "          0,  92,   4, 110, 250, 250, 158,   4,   0,   0,   0,   0,   0,\n",
              "          0,   0],\n",
              "       [  0,   0,   0,   0,   0,   0,   0,   0,   0,   0,   0,   0,  78,\n",
              "         40, 202, 250, 250, 250, 244, 108,   0,   0,   0,   0,   0,   0,\n",
              "          0,   0],\n",
              "       [  0,   0,   0,   0,   0,   0,   0,   0,   0,   0,  48, 228, 186,\n",
              "        250, 250, 250, 250, 146, 156,   0,   0,   0,   0,   0,   0,   0,\n",
              "          0,   0],\n",
              "       [  0,   0,   0,   0,   0,   0,   0,   0,  46, 132, 170, 250, 250,\n",
              "        250, 250, 140, 162,   4,   0,   0,   0,   0,   0,   0,   0,   0,\n",
              "          0,   0],\n",
              "       [  0,   0,   0,   0,   0,   0,  36,  86, 182, 250, 250, 250, 250,\n",
              "        134, 160,  18,   0,   0,   0,   0,   0,   0,   0,   0,   0,   0,\n",
              "          0,   0],\n",
              "       [  0,   0,   0,   0, 110,  88, 196, 250, 250, 250, 250, 232,  10,\n",
              "         22,   0,   0,   0,   0,   0,   0,   0,   0,   0,   0,   0,   0,\n",
              "          0,   0],\n",
              "       [  0,   0,   0,   0,  16, 250, 250, 250, 168,  14,   8,  32,   0,\n",
              "          0,   0,   0,   0,   0,   0,   0,   0,   0,   0,   0,   0,   0,\n",
              "          0,   0],\n",
              "       [  0,   0,   0,   0,   0,   0,   0,   0,   0,   0,   0,   0,   0,\n",
              "          0,   0,   0,   0,   0,   0,   0,   0,   0,   0,   0,   0,   0,\n",
              "          0,   0],\n",
              "       [  0,   0,   0,   0,   0,   0,   0,   0,   0,   0,   0,   0,   0,\n",
              "          0,   0,   0,   0,   0,   0,   0,   0,   0,   0,   0,   0,   0,\n",
              "          0,   0],\n",
              "       [  0,   0,   0,   0,   0,   0,   0,   0,   0,   0,   0,   0,   0,\n",
              "          0,   0,   0,   0,   0,   0,   0,   0,   0,   0,   0,   0,   0,\n",
              "          0,   0]], dtype=uint8)"
            ]
          },
          "metadata": {},
          "execution_count": 90
        }
      ]
    },
    {
      "cell_type": "code",
      "source": [
        "import time\n",
        "\n",
        "x = np.random.random((20, 100))\n",
        "y = np.random.random((20, 100))\n",
        "\n",
        "t0 = time.time()\n",
        "for _ in range(1000):\n",
        "  z = naive_add(x, y)\n",
        "  z = naive_relu(z)\n",
        "print(f\"Took {time.time() - t0} seconds\")"
      ],
      "metadata": {
        "id": "68kHE2V2GcXw",
        "outputId": "38503d13-dba3-4234-ae6b-d739abe5769e",
        "colab": {
          "base_uri": "https://localhost:8080/"
        }
      },
      "id": "68kHE2V2GcXw",
      "execution_count": 93,
      "outputs": [
        {
          "output_type": "stream",
          "name": "stdout",
          "text": [
            "Took 2.2475903034210205 seconds\n"
          ]
        }
      ]
    },
    {
      "cell_type": "code",
      "source": [
        "t0 = time.time()\n",
        "for _ in range(1000):\n",
        "  z = x + y\n",
        "  z = np.maximum(z, 0.)\n",
        "print(f\"Took {time.time() - t0} seconds\")"
      ],
      "metadata": {
        "id": "6hpDixwLHAnt",
        "outputId": "ab8a52f5-6705-4f30-9f0e-4a25f92b58be",
        "colab": {
          "base_uri": "https://localhost:8080/"
        }
      },
      "id": "6hpDixwLHAnt",
      "execution_count": 96,
      "outputs": [
        {
          "output_type": "stream",
          "name": "stdout",
          "text": [
            "Took 0.04343676567077637 seconds\n"
          ]
        }
      ]
    },
    {
      "cell_type": "markdown",
      "source": [
        "## Broadcasting\n"
      ],
      "metadata": {
        "id": "Y13WDjm6HS_2"
      },
      "id": "Y13WDjm6HS_2"
    },
    {
      "cell_type": "code",
      "source": [
        "x = np.random.random((32, 10))\n",
        "y = np.random.random((10,))\n",
        "\n",
        "y.shape"
      ],
      "metadata": {
        "id": "5VcUpuOPHjGg",
        "outputId": "8261500d-3b2b-4292-b516-6e87de5fee11",
        "colab": {
          "base_uri": "https://localhost:8080/"
        }
      },
      "id": "5VcUpuOPHjGg",
      "execution_count": 99,
      "outputs": [
        {
          "output_type": "execute_result",
          "data": {
            "text/plain": [
              "(10,)"
            ]
          },
          "metadata": {},
          "execution_count": 99
        }
      ]
    },
    {
      "cell_type": "code",
      "source": [
        "y = np.expand_dims(y, axis=0)\n",
        "y.shape"
      ],
      "metadata": {
        "id": "0f4gKUcrHnMi",
        "outputId": "d15bfff1-e93a-4377-d2ba-8229cb1865c8",
        "colab": {
          "base_uri": "https://localhost:8080/"
        }
      },
      "id": "0f4gKUcrHnMi",
      "execution_count": 100,
      "outputs": [
        {
          "output_type": "execute_result",
          "data": {
            "text/plain": [
              "(1, 10)"
            ]
          },
          "metadata": {},
          "execution_count": 100
        }
      ]
    },
    {
      "cell_type": "code",
      "source": [
        "np.expand_dims(np.random.random((10,)), axis=1).shape"
      ],
      "metadata": {
        "id": "bmFrHth_HrQt",
        "outputId": "3a8c4018-f2b0-4490-dc73-768b2c182edb",
        "colab": {
          "base_uri": "https://localhost:8080/"
        }
      },
      "id": "bmFrHth_HrQt",
      "execution_count": 103,
      "outputs": [
        {
          "output_type": "execute_result",
          "data": {
            "text/plain": [
              "(10, 1)"
            ]
          },
          "metadata": {},
          "execution_count": 103
        }
      ]
    },
    {
      "cell_type": "code",
      "source": [
        "Y = np.concatenate([y] * 32, axis=0)\n",
        "Y.shape"
      ],
      "metadata": {
        "id": "srIC4ugTH6es",
        "outputId": "40abdfd6-aca8-4297-b523-2b82389ab620",
        "colab": {
          "base_uri": "https://localhost:8080/"
        }
      },
      "id": "srIC4ugTH6es",
      "execution_count": 104,
      "outputs": [
        {
          "output_type": "execute_result",
          "data": {
            "text/plain": [
              "(32, 10)"
            ]
          },
          "metadata": {},
          "execution_count": 104
        }
      ]
    },
    {
      "cell_type": "code",
      "source": [
        "def naive_add_matrix_and_vector(x, y):\n",
        "  assert len(x.shape) == 2\n",
        "  assert len(y.shape) == 1\n",
        "  assert x.shape[1] == y.shape[0]\n",
        "  x = x.copy()\n",
        "  for i in range(x.shape[0]):\n",
        "    for j in range(x.shape[1]):\n",
        "      x[i, j] += y[j]\n",
        "  return x"
      ],
      "metadata": {
        "id": "JDaPkArVICRM"
      },
      "id": "JDaPkArVICRM",
      "execution_count": 106,
      "outputs": []
    },
    {
      "cell_type": "code",
      "source": [
        "from IPython.lib.display import YouTubeVideo\n",
        "x = np.random.random((32, 10))\n",
        "y = np.random.random((10,))\n",
        "\n",
        "z = naive_add_matrix_and_vector(x, y)\n",
        "z.shape"
      ],
      "metadata": {
        "id": "xRDo3jQHIsl3",
        "outputId": "1339c3ce-0b6b-4d91-b34f-ffd5a0a07a2b",
        "colab": {
          "base_uri": "https://localhost:8080/"
        }
      },
      "id": "xRDo3jQHIsl3",
      "execution_count": 107,
      "outputs": [
        {
          "output_type": "execute_result",
          "data": {
            "text/plain": [
              "(32, 10)"
            ]
          },
          "metadata": {},
          "execution_count": 107
        }
      ]
    },
    {
      "cell_type": "code",
      "source": [
        "x = np.random.random((64, 3, 32, 10))\n",
        "y = np.random.random((32, 10))\n",
        "z = np.maximum(x, y)\n",
        "z.shape"
      ],
      "metadata": {
        "id": "nqS2GGXiJSbm",
        "outputId": "85b01b96-4ad3-432b-c13a-c80a688ffbf7",
        "colab": {
          "base_uri": "https://localhost:8080/"
        }
      },
      "id": "nqS2GGXiJSbm",
      "execution_count": 109,
      "outputs": [
        {
          "output_type": "execute_result",
          "data": {
            "text/plain": [
              "(64, 3, 32, 10)"
            ]
          },
          "metadata": {},
          "execution_count": 109
        }
      ]
    },
    {
      "cell_type": "markdown",
      "source": [
        "## Tensor product"
      ],
      "metadata": {
        "id": "CNEIzHCtJeHF"
      },
      "id": "CNEIzHCtJeHF"
    },
    {
      "cell_type": "code",
      "source": [
        "x = np.random.random((32, ))\n",
        "y = np.random.random((32, ))\n",
        "z = np.dot(x, y)\n",
        "z.shape"
      ],
      "metadata": {
        "id": "Suoj4x4AJmNi",
        "outputId": "64844ed2-dc55-4649-a434-50ae0967aad7",
        "colab": {
          "base_uri": "https://localhost:8080/"
        }
      },
      "id": "Suoj4x4AJmNi",
      "execution_count": 110,
      "outputs": [
        {
          "output_type": "execute_result",
          "data": {
            "text/plain": [
              "()"
            ]
          },
          "metadata": {},
          "execution_count": 110
        }
      ]
    },
    {
      "cell_type": "code",
      "source": [
        "z"
      ],
      "metadata": {
        "id": "4kox4w97Jyba",
        "outputId": "5c8bb515-831e-4588-dda9-1948fe8a93b0",
        "colab": {
          "base_uri": "https://localhost:8080/"
        }
      },
      "id": "4kox4w97Jyba",
      "execution_count": 112,
      "outputs": [
        {
          "output_type": "execute_result",
          "data": {
            "text/plain": [
              "7.172432831991236"
            ]
          },
          "metadata": {},
          "execution_count": 112
        }
      ]
    },
    {
      "cell_type": "code",
      "source": [
        "def naive_vector_dot(x, y):\n",
        "  assert len(x.shape) == 1\n",
        "  assert len(y.shape) == 1\n",
        "  assert x.shape[0] == y.shape[0]\n",
        "  z = 0.\n",
        "  for i in range(x.shape[0]):\n",
        "    z += x[i] * y[i]\n",
        "  return z"
      ],
      "metadata": {
        "id": "37CpuS3QJzwU"
      },
      "id": "37CpuS3QJzwU",
      "execution_count": 113,
      "outputs": []
    },
    {
      "cell_type": "code",
      "source": [
        "naive_vector_dot(x, y)"
      ],
      "metadata": {
        "id": "6NVix8NCKRkY",
        "outputId": "50803676-418b-413a-bac3-e68750e51ec9",
        "colab": {
          "base_uri": "https://localhost:8080/"
        }
      },
      "id": "6NVix8NCKRkY",
      "execution_count": 114,
      "outputs": [
        {
          "output_type": "execute_result",
          "data": {
            "text/plain": [
              "7.172432831991236"
            ]
          },
          "metadata": {},
          "execution_count": 114
        }
      ]
    },
    {
      "cell_type": "code",
      "source": [
        "def naive_matrix_vector_dot(x, y):\n",
        "  assert len(x.shape) == 2\n",
        "  assert len(y.shape) == 1\n",
        "  assert x.shape[1] == y.shape[0]\n",
        "  z = np.zeros(x.shape)\n",
        "  for i in range(x.shape[0]):\n",
        "    for j in range(x.shape[1]):\n",
        "      z[i] += x[i, j] * y[j]\n",
        "  return z"
      ],
      "metadata": {
        "id": "-xLeWvSAKUAB"
      },
      "id": "-xLeWvSAKUAB",
      "execution_count": 115,
      "outputs": []
    },
    {
      "cell_type": "code",
      "source": [
        "def naive_matrix_dot(x, y):\n",
        "  z = np.zeros(x.shape[0])\n",
        "  for i in range(x.shape[0]):\n",
        "    z[i] = naive_vector_dot(x[i, :], y)\n",
        "  return z"
      ],
      "metadata": {
        "id": "1n5K_AN2LCRx"
      },
      "id": "1n5K_AN2LCRx",
      "execution_count": 116,
      "outputs": []
    },
    {
      "cell_type": "code",
      "source": [
        "def naive_matrix_dot(x, y):\n",
        "  assert len(x.shape) == 2\n",
        "  assert len(y.shape) == 2\n",
        "  assert x.shape[1] == y.shape[0]\n",
        "  z = np.zeros(x.shape[0], y.shape[1])\n",
        "  for i in range(x.shape[0]):\n",
        "    for j in range(y.shape[1]):\n",
        "      row_x = x[i, :]\n",
        "      column_y = y[:, j]\n",
        "      z[i, j] = naive_vector_dot(roq_x, column_y)\n",
        "  return z"
      ],
      "metadata": {
        "id": "wJNoaUmiLZeF"
      },
      "id": "wJNoaUmiLZeF",
      "execution_count": 117,
      "outputs": []
    },
    {
      "cell_type": "markdown",
      "source": [
        "## Tensor reshaping"
      ],
      "metadata": {
        "id": "ez0PRSSFMJLK"
      },
      "id": "ez0PRSSFMJLK"
    },
    {
      "cell_type": "code",
      "source": [
        "train_images = train_images.reshape((60_000, 28*28))"
      ],
      "metadata": {
        "id": "vFybcWM7MNxR"
      },
      "id": "vFybcWM7MNxR",
      "execution_count": 118,
      "outputs": []
    },
    {
      "cell_type": "code",
      "source": [
        "x = np.array([[0., 1.],\n",
        "             [2., 3.],\n",
        "             [4., 5.]])\n",
        "x.shape"
      ],
      "metadata": {
        "id": "FVqopwnFMZXa",
        "outputId": "dd39b692-25f1-440f-f871-b785e8cfc177",
        "colab": {
          "base_uri": "https://localhost:8080/"
        }
      },
      "id": "FVqopwnFMZXa",
      "execution_count": 120,
      "outputs": [
        {
          "output_type": "execute_result",
          "data": {
            "text/plain": [
              "(3, 2)"
            ]
          },
          "metadata": {},
          "execution_count": 120
        }
      ]
    },
    {
      "cell_type": "code",
      "source": [
        "x.reshape((6, 1)).shape"
      ],
      "metadata": {
        "id": "xzbTS_T1MkL6",
        "outputId": "2ef6bf9d-3bc7-438e-8edc-2ad8ce169fa8",
        "colab": {
          "base_uri": "https://localhost:8080/"
        }
      },
      "id": "xzbTS_T1MkL6",
      "execution_count": 121,
      "outputs": [
        {
          "output_type": "execute_result",
          "data": {
            "text/plain": [
              "(6, 1)"
            ]
          },
          "metadata": {},
          "execution_count": 121
        }
      ]
    },
    {
      "cell_type": "code",
      "source": [
        "x.reshape((6, 1))"
      ],
      "metadata": {
        "id": "w2d8tiEvMq5_",
        "outputId": "0146e446-fb3b-4c9e-ac5c-40f77cbf4797",
        "colab": {
          "base_uri": "https://localhost:8080/"
        }
      },
      "id": "w2d8tiEvMq5_",
      "execution_count": 122,
      "outputs": [
        {
          "output_type": "execute_result",
          "data": {
            "text/plain": [
              "array([[0.],\n",
              "       [1.],\n",
              "       [2.],\n",
              "       [3.],\n",
              "       [4.],\n",
              "       [5.]])"
            ]
          },
          "metadata": {},
          "execution_count": 122
        }
      ]
    },
    {
      "cell_type": "code",
      "source": [
        "x = np.zeros((300, 20))\n",
        "x = np.transpose(x)\n",
        "x.shape"
      ],
      "metadata": {
        "id": "YvDWMZ3ZMt-M",
        "outputId": "587e7c6c-743c-4b9d-9e76-977bf742a1fe",
        "colab": {
          "base_uri": "https://localhost:8080/"
        }
      },
      "id": "YvDWMZ3ZMt-M",
      "execution_count": 123,
      "outputs": [
        {
          "output_type": "execute_result",
          "data": {
            "text/plain": [
              "(20, 300)"
            ]
          },
          "metadata": {},
          "execution_count": 123
        }
      ]
    },
    {
      "cell_type": "markdown",
      "source": [
        "## Tape derivatives"
      ],
      "metadata": {
        "id": "GAG6Q8hJM5DS"
      },
      "id": "GAG6Q8hJM5DS"
    },
    {
      "cell_type": "code",
      "source": [
        "import tensorflow as tf\n",
        "\n",
        "x = tf.Variable(0.)\n",
        "x"
      ],
      "metadata": {
        "id": "RfZ0DAcLM-SO",
        "outputId": "4b55f0ef-4793-4c82-dc9b-20f0240d5666",
        "colab": {
          "base_uri": "https://localhost:8080/"
        }
      },
      "id": "RfZ0DAcLM-SO",
      "execution_count": 124,
      "outputs": [
        {
          "output_type": "execute_result",
          "data": {
            "text/plain": [
              "<tf.Variable 'Variable:0' shape=() dtype=float32, numpy=0.0>"
            ]
          },
          "metadata": {},
          "execution_count": 124
        }
      ]
    },
    {
      "cell_type": "code",
      "source": [
        "with tf.GradientTape() as tape:\n",
        "  y = (2*x) + 3\n",
        "grad_of_y_wrt_x = tape.gradient(y, x)\n",
        "grad_of_y_wrt_x"
      ],
      "metadata": {
        "id": "ad1yEUDpNE_b",
        "outputId": "002f106a-867b-4033-c4d0-79319c090352",
        "colab": {
          "base_uri": "https://localhost:8080/"
        }
      },
      "id": "ad1yEUDpNE_b",
      "execution_count": 126,
      "outputs": [
        {
          "output_type": "execute_result",
          "data": {
            "text/plain": [
              "<tf.Tensor: shape=(), dtype=float32, numpy=2.0>"
            ]
          },
          "metadata": {},
          "execution_count": 126
        }
      ]
    },
    {
      "cell_type": "code",
      "source": [
        "x = tf.Variable(tf.random.uniform((2,2)))\n",
        "x"
      ],
      "metadata": {
        "id": "cMihBo8xNSxu",
        "outputId": "833471f1-667c-48e4-a99b-11011bf46d3a",
        "colab": {
          "base_uri": "https://localhost:8080/"
        }
      },
      "id": "cMihBo8xNSxu",
      "execution_count": 129,
      "outputs": [
        {
          "output_type": "execute_result",
          "data": {
            "text/plain": [
              "<tf.Variable 'Variable:0' shape=(2, 2) dtype=float32, numpy=\n",
              "array([[0.31849754, 0.69652426],\n",
              "       [0.20702374, 0.7952932 ]], dtype=float32)>"
            ]
          },
          "metadata": {},
          "execution_count": 129
        }
      ]
    },
    {
      "cell_type": "code",
      "source": [
        "with tf.GradientTape() as tape:\n",
        "  y = (2*x) + 3\n",
        "grad_of_y_wrt_x = tape.gradient(y, x)\n",
        "grad_of_y_wrt_x"
      ],
      "metadata": {
        "id": "ixDbABUVNe3z",
        "outputId": "2ef66bec-22e5-41b9-bdcf-1bf1518a9527",
        "colab": {
          "base_uri": "https://localhost:8080/"
        }
      },
      "id": "ixDbABUVNe3z",
      "execution_count": 130,
      "outputs": [
        {
          "output_type": "execute_result",
          "data": {
            "text/plain": [
              "<tf.Tensor: shape=(2, 2), dtype=float32, numpy=\n",
              "array([[2., 2.],\n",
              "       [2., 2.]], dtype=float32)>"
            ]
          },
          "metadata": {},
          "execution_count": 130
        }
      ]
    },
    {
      "cell_type": "code",
      "source": [
        "(train_images, train_labels), (test_images, test_labels) = mnist.load_data()\n",
        "train_images = train_images.reshape(60_000, 28*28)\n",
        "train_images = train_images.astype(\"float32\") / 255\n",
        "test_images = test_images.reshape(10_000, 28*28)\n",
        "test_images = test_images.astype(\"float32\") / 255"
      ],
      "metadata": {
        "id": "aVqPEUCYNt1M"
      },
      "id": "aVqPEUCYNt1M",
      "execution_count": 133,
      "outputs": []
    },
    {
      "cell_type": "code",
      "source": [
        "model = keras.Sequential([\n",
        "  layers.Dense(512, activation=\"relu\"),\n",
        "  layers.Dense(10, activation=\"softmax\")                          \n",
        "])"
      ],
      "metadata": {
        "id": "EgvmDjIEOFX3"
      },
      "id": "EgvmDjIEOFX3",
      "execution_count": 134,
      "outputs": []
    },
    {
      "cell_type": "code",
      "source": [
        "model.compile(\n",
        "    optimizer=\"rmsprop\",\n",
        "    loss=\"sparse_categorical_crossentropy\",\n",
        "    metrics=[\"accuracy\"],\n",
        ")"
      ],
      "metadata": {
        "id": "gdhWOi19OXTR"
      },
      "id": "gdhWOi19OXTR",
      "execution_count": 135,
      "outputs": []
    },
    {
      "cell_type": "code",
      "source": [
        "model.fit(train_images, train_labels, epochs=5, batch_size=128)"
      ],
      "metadata": {
        "id": "DcgD7JgfOe08",
        "outputId": "b7677ad0-9150-4144-97db-5b38b1148cc1",
        "colab": {
          "base_uri": "https://localhost:8080/"
        }
      },
      "id": "DcgD7JgfOe08",
      "execution_count": 136,
      "outputs": [
        {
          "output_type": "stream",
          "name": "stdout",
          "text": [
            "Epoch 1/5\n",
            "469/469 [==============================] - 7s 13ms/step - loss: 0.2547 - accuracy: 0.9255\n",
            "Epoch 2/5\n",
            "469/469 [==============================] - 5s 11ms/step - loss: 0.1036 - accuracy: 0.9694\n",
            "Epoch 3/5\n",
            "469/469 [==============================] - 5s 11ms/step - loss: 0.0677 - accuracy: 0.9799\n",
            "Epoch 4/5\n",
            "469/469 [==============================] - 5s 11ms/step - loss: 0.0491 - accuracy: 0.9854\n",
            "Epoch 5/5\n",
            "469/469 [==============================] - 5s 11ms/step - loss: 0.0372 - accuracy: 0.9888\n"
          ]
        },
        {
          "output_type": "execute_result",
          "data": {
            "text/plain": [
              "<keras.callbacks.History at 0x7f0c7917ac90>"
            ]
          },
          "metadata": {},
          "execution_count": 136
        }
      ]
    },
    {
      "cell_type": "markdown",
      "source": [
        "## Model from scratch"
      ],
      "metadata": {
        "id": "ZexAgpeHOlHw"
      },
      "id": "ZexAgpeHOlHw"
    },
    {
      "cell_type": "code",
      "source": [
        "class NaiveDense:\n",
        "  def __init__(self, input_size, output_size, activation):\n",
        "    self.activation = activation\n",
        "\n",
        "    w_shape = (input_size, output_size)\n",
        "    w_initial_value = tf.random.uniform(w_shape, minval=0, maxval=1e-1)\n",
        "    self.W = tf.Variable(w_initial_value)\n",
        "\n",
        "    b_shape = (output_size,)\n",
        "    b_initial_value = tf.zeros(b_shape)\n",
        "    self.b = tf.Variable(b_initial_value)\n",
        "\n",
        "  def __call__(self, inputs):\n",
        "    return self.activation(tf.matmul(inputs, self.W) + self.b)\n",
        "\n",
        "  @property\n",
        "  def weights(self):\n",
        "    return [self.W, self.b]"
      ],
      "metadata": {
        "id": "7_ssEcxMPBtc"
      },
      "id": "7_ssEcxMPBtc",
      "execution_count": 158,
      "outputs": []
    },
    {
      "cell_type": "code",
      "source": [
        "class NaiveSequential:\n",
        "  def __init__(self, layers):\n",
        "    self.layers = layers\n",
        "\n",
        "  def __call__(self, inputs):\n",
        "    x = inputs\n",
        "    for layer in self.layers:\n",
        "      x = layer(x)\n",
        "    return x\n",
        "\n",
        "  @property\n",
        "  def weights(self):\n",
        "    weights = []\n",
        "    for layer in self.layers:\n",
        "      weights += layer.weights\n",
        "    return weights"
      ],
      "metadata": {
        "id": "TWdYSWSkQGrE"
      },
      "id": "TWdYSWSkQGrE",
      "execution_count": 159,
      "outputs": []
    },
    {
      "cell_type": "code",
      "source": [
        "model = NaiveSequential([\n",
        "  NaiveDense(input_size=28*28, output_size=512, activation=tf.nn.relu),\n",
        "  NaiveDense(input_size=512, output_size=10, activation=tf.nn.softmax),                      \n",
        "])"
      ],
      "metadata": {
        "id": "cAjKg1t5Qjni"
      },
      "id": "cAjKg1t5Qjni",
      "execution_count": 160,
      "outputs": []
    },
    {
      "cell_type": "code",
      "source": [
        "len(model.weights)"
      ],
      "metadata": {
        "id": "ftWMPghsQ0sj",
        "outputId": "dd769b02-97b6-4330-98c8-21ddb28d0cf3",
        "colab": {
          "base_uri": "https://localhost:8080/"
        }
      },
      "id": "ftWMPghsQ0sj",
      "execution_count": 161,
      "outputs": [
        {
          "output_type": "execute_result",
          "data": {
            "text/plain": [
              "4"
            ]
          },
          "metadata": {},
          "execution_count": 161
        }
      ]
    },
    {
      "cell_type": "markdown",
      "source": [
        "## Batch generator"
      ],
      "metadata": {
        "id": "DRQ9ytN4Q2KR"
      },
      "id": "DRQ9ytN4Q2KR"
    },
    {
      "cell_type": "code",
      "source": [
        "import math\n",
        "\n",
        "class BatchGenerator:\n",
        "  def __init__(self, images, labels, batch_size=128):\n",
        "    assert len(images) == len(labels)\n",
        "    self.index = 0\n",
        "    self.images = images\n",
        "    self.labels = labels\n",
        "    self.batch_size = batch_size\n",
        "    self.num_batches = math.ceil(len(images) / batch_size)\n",
        "\n",
        "  def next(self):\n",
        "    images = self.images[self.index : self.index + self.batch_size]\n",
        "    labels = self.labels[self.index : self.index + self.batch_size]\n",
        "    self.index += self.batch_size\n",
        "    return images, labels"
      ],
      "metadata": {
        "id": "kRKbYbaRQ-Pn"
      },
      "id": "kRKbYbaRQ-Pn",
      "execution_count": 162,
      "outputs": []
    },
    {
      "cell_type": "markdown",
      "source": [
        "## Training one step"
      ],
      "metadata": {
        "id": "QL1DE5XNRe4N"
      },
      "id": "QL1DE5XNRe4N"
    },
    {
      "cell_type": "code",
      "source": [
        "def one_training_step(model, images_batch, labels_batch):\n",
        "  with tf.GradientTape() as tape:\n",
        "    predictions = model(images_batch)\n",
        "    per_sample_losses = tf.keras.losses.sparse_categorical_crossentropy(\n",
        "        labels_batch, predictions\n",
        "    )\n",
        "    average_loss = tf.reduce_mean(per_sample_losses)\n",
        "  gradients = tape.gradient(average_loss, model.weights)\n",
        "  update_weights(gradients, model.weights)\n",
        "  \n",
        "  return average_loss"
      ],
      "metadata": {
        "id": "cQpb38r2xM8n"
      },
      "id": "cQpb38r2xM8n",
      "execution_count": 168,
      "outputs": []
    },
    {
      "cell_type": "code",
      "source": [
        "learning_rate = 1e-3\n",
        "\n",
        "def update_weights(gradients, weights):\n",
        "  for gradient, weight in zip(gradients, weights):\n",
        "    weight.assign_sub(gradient * learning_rate)"
      ],
      "metadata": {
        "id": "OtfFvRJDyB_C"
      },
      "id": "OtfFvRJDyB_C",
      "execution_count": 164,
      "outputs": []
    },
    {
      "cell_type": "code",
      "source": [
        "from tensorflow.keras import optimizers\n",
        "\n",
        "optimizer = optimizers.SGD(learning_rate=learning_rate)\n",
        "\n",
        "def update_weights(gradients, weights):\n",
        "  optimizer.apply_gradients(zip(gradients, weights))"
      ],
      "metadata": {
        "id": "VPiD-25iyfo5"
      },
      "id": "VPiD-25iyfo5",
      "execution_count": 165,
      "outputs": []
    },
    {
      "cell_type": "markdown",
      "source": [
        "## Full training loop"
      ],
      "metadata": {
        "id": "M2tMe8a6y5gt"
      },
      "id": "M2tMe8a6y5gt"
    },
    {
      "cell_type": "code",
      "source": [
        "def fit(model, images, labels, epochs, batch_size=128):\n",
        "  for epoch_counter in range(epochs):\n",
        "    print(f\"Epoch {epoch_counter}\")\n",
        "    batch_generator = BatchGenerator(images, labels)\n",
        "    for batch_counter in range(batch_generator.num_batches):\n",
        "      images_batch, labels_batch = batch_generator.next()\n",
        "      loss = one_training_step(model, images_batch, labels_batch)\n",
        "      if batch_counter % 100 == 0:\n",
        "        print(f\"loss at batch {batch_counter}: {loss:.2f}\")"
      ],
      "metadata": {
        "id": "A81kcNc6zAPe"
      },
      "id": "A81kcNc6zAPe",
      "execution_count": 170,
      "outputs": []
    },
    {
      "cell_type": "code",
      "source": [
        "from tensorflow.keras.datasets import mnist\n",
        "\n",
        "(train_images, train_labels), (test_images, test_labels) = mnist.load_data()\n",
        "\n",
        "train_images = train_images.reshape((60_000, 28*28))\n",
        "train_images = train_images.astype(\"float32\") / 255\n",
        "test_images = test_images.reshape((10_000, 28*28))\n",
        "test_images = test_images.astype(\"float32\") / 255\n",
        "\n",
        "fit(model, train_images, train_labels, epochs=10, batch_size=128)"
      ],
      "metadata": {
        "id": "z-NOu2zZ0WH8",
        "outputId": "bf12a75d-f2b8-411a-b883-900e15c16773",
        "colab": {
          "base_uri": "https://localhost:8080/"
        }
      },
      "id": "z-NOu2zZ0WH8",
      "execution_count": 171,
      "outputs": [
        {
          "output_type": "stream",
          "name": "stdout",
          "text": [
            "Epoch 0\n",
            "loss at batch 0: 3.04\n",
            "loss at batch 100: 2.24\n",
            "loss at batch 200: 2.19\n",
            "loss at batch 300: 2.08\n",
            "loss at batch 400: 2.17\n",
            "Epoch 1\n",
            "loss at batch 0: 1.89\n",
            "loss at batch 100: 1.88\n",
            "loss at batch 200: 1.81\n",
            "loss at batch 300: 1.70\n",
            "loss at batch 400: 1.79\n",
            "Epoch 2\n",
            "loss at batch 0: 1.57\n",
            "loss at batch 100: 1.58\n",
            "loss at batch 200: 1.49\n",
            "loss at batch 300: 1.43\n",
            "loss at batch 400: 1.48\n",
            "Epoch 3\n",
            "loss at batch 0: 1.32\n",
            "loss at batch 100: 1.34\n",
            "loss at batch 200: 1.23\n",
            "loss at batch 300: 1.21\n",
            "loss at batch 400: 1.25\n",
            "Epoch 4\n",
            "loss at batch 0: 1.12\n",
            "loss at batch 100: 1.16\n",
            "loss at batch 200: 1.03\n",
            "loss at batch 300: 1.05\n",
            "loss at batch 400: 1.09\n",
            "Epoch 5\n",
            "loss at batch 0: 0.98\n",
            "loss at batch 100: 1.02\n",
            "loss at batch 200: 0.89\n",
            "loss at batch 300: 0.93\n",
            "loss at batch 400: 0.97\n",
            "Epoch 6\n",
            "loss at batch 0: 0.87\n",
            "loss at batch 100: 0.91\n",
            "loss at batch 200: 0.79\n",
            "loss at batch 300: 0.84\n",
            "loss at batch 400: 0.88\n",
            "Epoch 7\n",
            "loss at batch 0: 0.79\n",
            "loss at batch 100: 0.83\n",
            "loss at batch 200: 0.71\n",
            "loss at batch 300: 0.77\n",
            "loss at batch 400: 0.82\n",
            "Epoch 8\n",
            "loss at batch 0: 0.72\n",
            "loss at batch 100: 0.76\n",
            "loss at batch 200: 0.65\n",
            "loss at batch 300: 0.72\n",
            "loss at batch 400: 0.76\n",
            "Epoch 9\n",
            "loss at batch 0: 0.67\n",
            "loss at batch 100: 0.70\n",
            "loss at batch 200: 0.60\n",
            "loss at batch 300: 0.67\n",
            "loss at batch 400: 0.72\n"
          ]
        }
      ]
    },
    {
      "cell_type": "markdown",
      "source": [
        "## Evaluate model"
      ],
      "metadata": {
        "id": "vb1XnhuX03mj"
      },
      "id": "vb1XnhuX03mj"
    },
    {
      "cell_type": "code",
      "source": [
        "predictions = model(test_images)\n",
        "predictions"
      ],
      "metadata": {
        "id": "qG03eX7B06qU",
        "outputId": "d412d9ff-9aaf-4a44-eb1b-c03c22fc0af9",
        "colab": {
          "base_uri": "https://localhost:8080/"
        }
      },
      "id": "qG03eX7B06qU",
      "execution_count": 172,
      "outputs": [
        {
          "output_type": "execute_result",
          "data": {
            "text/plain": [
              "<tf.Tensor: shape=(10000, 10), dtype=float32, numpy=\n",
              "array([[7.12266983e-03, 9.46921005e-04, 3.67217534e-03, ...,\n",
              "        8.67702723e-01, 7.26054795e-03, 7.31467828e-02],\n",
              "       [6.07013367e-02, 1.60472374e-02, 2.87309974e-01, ...,\n",
              "        4.89362399e-04, 5.26481867e-02, 1.95305829e-03],\n",
              "       [3.57039133e-03, 8.37943017e-01, 2.98415404e-02, ...,\n",
              "        1.50355799e-02, 2.92761903e-02, 1.57179497e-02],\n",
              "       ...,\n",
              "       [1.29464164e-03, 5.20795071e-03, 4.00198018e-03, ...,\n",
              "        4.60890681e-02, 6.51827231e-02, 4.48450625e-01],\n",
              "       [3.13480906e-02, 1.02190614e-01, 3.01803034e-02, ...,\n",
              "        4.35916372e-02, 3.17654580e-01, 7.55740181e-02],\n",
              "       [2.09916774e-02, 5.06822216e-05, 1.37375109e-02, ...,\n",
              "        4.77884059e-05, 1.02322781e-03, 1.21109630e-03]], dtype=float32)>"
            ]
          },
          "metadata": {},
          "execution_count": 172
        }
      ]
    },
    {
      "cell_type": "code",
      "source": [
        "predictions_array = predictions.numpy()\n",
        "predictions_array"
      ],
      "metadata": {
        "id": "hh4jvBBT2EUb",
        "outputId": "fd890d34-132a-4be0-b874-2e33151dfe02",
        "colab": {
          "base_uri": "https://localhost:8080/"
        }
      },
      "id": "hh4jvBBT2EUb",
      "execution_count": 173,
      "outputs": [
        {
          "output_type": "execute_result",
          "data": {
            "text/plain": [
              "array([[7.12266983e-03, 9.46921005e-04, 3.67217534e-03, ...,\n",
              "        8.67702723e-01, 7.26054795e-03, 7.31467828e-02],\n",
              "       [6.07013367e-02, 1.60472374e-02, 2.87309974e-01, ...,\n",
              "        4.89362399e-04, 5.26481867e-02, 1.95305829e-03],\n",
              "       [3.57039133e-03, 8.37943017e-01, 2.98415404e-02, ...,\n",
              "        1.50355799e-02, 2.92761903e-02, 1.57179497e-02],\n",
              "       ...,\n",
              "       [1.29464164e-03, 5.20795071e-03, 4.00198018e-03, ...,\n",
              "        4.60890681e-02, 6.51827231e-02, 4.48450625e-01],\n",
              "       [3.13480906e-02, 1.02190614e-01, 3.01803034e-02, ...,\n",
              "        4.35916372e-02, 3.17654580e-01, 7.55740181e-02],\n",
              "       [2.09916774e-02, 5.06822216e-05, 1.37375109e-02, ...,\n",
              "        4.77884059e-05, 1.02322781e-03, 1.21109630e-03]], dtype=float32)"
            ]
          },
          "metadata": {},
          "execution_count": 173
        }
      ]
    },
    {
      "cell_type": "code",
      "source": [
        "predictions_array.shape"
      ],
      "metadata": {
        "id": "DTCcbKY62Lap",
        "outputId": "08a134d0-f6b6-4e28-afab-7961d7c95bb2",
        "colab": {
          "base_uri": "https://localhost:8080/"
        }
      },
      "id": "DTCcbKY62Lap",
      "execution_count": 174,
      "outputs": [
        {
          "output_type": "execute_result",
          "data": {
            "text/plain": [
              "(10000, 10)"
            ]
          },
          "metadata": {},
          "execution_count": 174
        }
      ]
    },
    {
      "cell_type": "code",
      "source": [
        "predicted_labels = np.argmax(predictions, axis=1)\n",
        "predicted_labels"
      ],
      "metadata": {
        "id": "wYaPb5Ro2NGz",
        "outputId": "908ac951-0298-458f-a94c-da043bb8d1e1",
        "colab": {
          "base_uri": "https://localhost:8080/"
        }
      },
      "id": "wYaPb5Ro2NGz",
      "execution_count": 175,
      "outputs": [
        {
          "output_type": "execute_result",
          "data": {
            "text/plain": [
              "array([7, 2, 1, ..., 9, 8, 6])"
            ]
          },
          "metadata": {},
          "execution_count": 175
        }
      ]
    },
    {
      "cell_type": "code",
      "source": [
        "matches = predicted_labels == test_labels\n",
        "print(f\"accuracy: {matches.mean():.2f}\")"
      ],
      "metadata": {
        "id": "evxspXlz2c9b",
        "outputId": "10b8682a-cd12-4396-89e1-ee531e958d8e",
        "colab": {
          "base_uri": "https://localhost:8080/"
        }
      },
      "id": "evxspXlz2c9b",
      "execution_count": 178,
      "outputs": [
        {
          "output_type": "stream",
          "name": "stdout",
          "text": [
            "accuracy: 0.82\n"
          ]
        }
      ]
    },
    {
      "cell_type": "code",
      "source": [
        ""
      ],
      "metadata": {
        "id": "vtlKspo82orZ"
      },
      "id": "vtlKspo82orZ",
      "execution_count": null,
      "outputs": []
    }
  ],
  "metadata": {
    "colab": {
      "name": "chapter02_mathematical-building-blocks.ipynb",
      "provenance": []
    },
    "language_info": {
      "name": "python"
    },
    "kernelspec": {
      "name": "python3",
      "display_name": "Python 3"
    }
  },
  "nbformat": 4,
  "nbformat_minor": 5
}